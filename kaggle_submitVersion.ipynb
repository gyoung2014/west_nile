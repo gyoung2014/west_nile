{
 "cells": [
  {
   "cell_type": "markdown",
   "metadata": {},
   "source": [
    "## Title: West Nile Virus in Mosquitoes across the City of Chicago Prediction\n",
    "### Author: Yang, Gao\n",
    "### Time: June 23, 2018"
   ]
  },
  {
   "cell_type": "code",
   "execution_count": 1,
   "metadata": {},
   "outputs": [
    {
     "name": "stderr",
     "output_type": "stream",
     "text": [
      "/anaconda3/envs/py35/lib/python3.5/site-packages/sklearn/cross_validation.py:41: DeprecationWarning: This module was deprecated in version 0.18 in favor of the model_selection module into which all the refactored classes and functions are moved. Also note that the interface of the new CV iterators are different from that of this module. This module will be removed in 0.20.\n",
      "  \"This module will be removed in 0.20.\", DeprecationWarning)\n"
     ]
    }
   ],
   "source": [
    "import pandas as pd\n",
    "import numpy as np\n",
    "import matplotlib.pyplot as plt\n",
    "import matplotlib.dates as mdates\n",
    "from sklearn import preprocessing\n",
    "from sklearn.preprocessing import MinMaxScaler\n",
    "from sklearn.preprocessing import Imputer\n",
    "from sklearn.cross_validation import StratifiedShuffleSplit,train_test_split\n",
    "from sklearn import decomposition,linear_model\n",
    "from sklearn.model_selection import cross_val_score\n",
    "from sklearn.model_selection import cross_val_predict\n",
    "from sklearn.ensemble import RandomForestClassifier\n",
    "from sklearn.tree import DecisionTreeClassifier\n",
    "from sklearn.linear_model import RidgeClassifier,Lasso,LogisticRegression\n",
    "from sklearn.metrics import accuracy_score,recall_score,f1_score,roc_auc_score,precision_recall_curve,roc_curve,auc\n",
    "from sklearn.model_selection import GridSearchCV\n",
    "import xgboost as xgb\n",
    "from xgboost import XGBClassifier\n",
    "from sklearn.metrics import confusion_matrix\n",
    "from imblearn.over_sampling import SMOTE\n",
    "from sklearn.feature_selection import SelectFromModel\n",
    "from sklearn.externals import joblib\n",
    "import gmplot\n",
    "%matplotlib inline\n",
    "#using matplotlib’s ggplot style\n",
    "plt.style.use('ggplot')\n",
    "import seaborn as sns"
   ]
  },
  {
   "cell_type": "markdown",
   "metadata": {},
   "source": [
    "## Load Dataset\n"
   ]
  },
  {
   "cell_type": "code",
   "execution_count": 2,
   "metadata": {},
   "outputs": [],
   "source": [
    "path ='/Users/gyang/Desktop/data_interview/kaggle/data/'"
   ]
  },
  {
   "cell_type": "code",
   "execution_count": 3,
   "metadata": {},
   "outputs": [],
   "source": [
    "# Load dataset \n",
    "train = pd.read_csv(path+'train.csv')\n",
    "test = pd.read_csv(path+'test.csv')\n",
    "weather =pd.read_csv(path+'weather.csv')\n",
    "spray =pd.read_csv(path+'spray.csv')"
   ]
  },
  {
   "cell_type": "code",
   "execution_count": 4,
   "metadata": {},
   "outputs": [
    {
     "data": {
      "text/html": [
       "<div>\n",
       "<style scoped>\n",
       "    .dataframe tbody tr th:only-of-type {\n",
       "        vertical-align: middle;\n",
       "    }\n",
       "\n",
       "    .dataframe tbody tr th {\n",
       "        vertical-align: top;\n",
       "    }\n",
       "\n",
       "    .dataframe thead th {\n",
       "        text-align: right;\n",
       "    }\n",
       "</style>\n",
       "<table border=\"1\" class=\"dataframe\">\n",
       "  <thead>\n",
       "    <tr style=\"text-align: right;\">\n",
       "      <th></th>\n",
       "      <th>Date</th>\n",
       "      <th>Address</th>\n",
       "      <th>Species</th>\n",
       "      <th>Block</th>\n",
       "      <th>Street</th>\n",
       "      <th>Trap</th>\n",
       "      <th>AddressNumberAndStreet</th>\n",
       "      <th>Latitude</th>\n",
       "      <th>Longitude</th>\n",
       "      <th>AddressAccuracy</th>\n",
       "      <th>NumMosquitos</th>\n",
       "      <th>WnvPresent</th>\n",
       "    </tr>\n",
       "  </thead>\n",
       "  <tbody>\n",
       "    <tr>\n",
       "      <th>0</th>\n",
       "      <td>2007-05-29</td>\n",
       "      <td>4100 North Oak Park Avenue, Chicago, IL 60634,...</td>\n",
       "      <td>CULEX PIPIENS/RESTUANS</td>\n",
       "      <td>41</td>\n",
       "      <td>N OAK PARK AVE</td>\n",
       "      <td>T002</td>\n",
       "      <td>4100  N OAK PARK AVE, Chicago, IL</td>\n",
       "      <td>41.954690</td>\n",
       "      <td>-87.800991</td>\n",
       "      <td>9</td>\n",
       "      <td>1</td>\n",
       "      <td>0</td>\n",
       "    </tr>\n",
       "    <tr>\n",
       "      <th>1</th>\n",
       "      <td>2007-05-29</td>\n",
       "      <td>4100 North Oak Park Avenue, Chicago, IL 60634,...</td>\n",
       "      <td>CULEX RESTUANS</td>\n",
       "      <td>41</td>\n",
       "      <td>N OAK PARK AVE</td>\n",
       "      <td>T002</td>\n",
       "      <td>4100  N OAK PARK AVE, Chicago, IL</td>\n",
       "      <td>41.954690</td>\n",
       "      <td>-87.800991</td>\n",
       "      <td>9</td>\n",
       "      <td>1</td>\n",
       "      <td>0</td>\n",
       "    </tr>\n",
       "    <tr>\n",
       "      <th>2</th>\n",
       "      <td>2007-05-29</td>\n",
       "      <td>6200 North Mandell Avenue, Chicago, IL 60646, USA</td>\n",
       "      <td>CULEX RESTUANS</td>\n",
       "      <td>62</td>\n",
       "      <td>N MANDELL AVE</td>\n",
       "      <td>T007</td>\n",
       "      <td>6200  N MANDELL AVE, Chicago, IL</td>\n",
       "      <td>41.994991</td>\n",
       "      <td>-87.769279</td>\n",
       "      <td>9</td>\n",
       "      <td>1</td>\n",
       "      <td>0</td>\n",
       "    </tr>\n",
       "    <tr>\n",
       "      <th>3</th>\n",
       "      <td>2007-05-29</td>\n",
       "      <td>7900 West Foster Avenue, Chicago, IL 60656, USA</td>\n",
       "      <td>CULEX PIPIENS/RESTUANS</td>\n",
       "      <td>79</td>\n",
       "      <td>W FOSTER AVE</td>\n",
       "      <td>T015</td>\n",
       "      <td>7900  W FOSTER AVE, Chicago, IL</td>\n",
       "      <td>41.974089</td>\n",
       "      <td>-87.824812</td>\n",
       "      <td>8</td>\n",
       "      <td>1</td>\n",
       "      <td>0</td>\n",
       "    </tr>\n",
       "    <tr>\n",
       "      <th>4</th>\n",
       "      <td>2007-05-29</td>\n",
       "      <td>7900 West Foster Avenue, Chicago, IL 60656, USA</td>\n",
       "      <td>CULEX RESTUANS</td>\n",
       "      <td>79</td>\n",
       "      <td>W FOSTER AVE</td>\n",
       "      <td>T015</td>\n",
       "      <td>7900  W FOSTER AVE, Chicago, IL</td>\n",
       "      <td>41.974089</td>\n",
       "      <td>-87.824812</td>\n",
       "      <td>8</td>\n",
       "      <td>4</td>\n",
       "      <td>0</td>\n",
       "    </tr>\n",
       "  </tbody>\n",
       "</table>\n",
       "</div>"
      ],
      "text/plain": [
       "         Date                                            Address  \\\n",
       "0  2007-05-29  4100 North Oak Park Avenue, Chicago, IL 60634,...   \n",
       "1  2007-05-29  4100 North Oak Park Avenue, Chicago, IL 60634,...   \n",
       "2  2007-05-29  6200 North Mandell Avenue, Chicago, IL 60646, USA   \n",
       "3  2007-05-29    7900 West Foster Avenue, Chicago, IL 60656, USA   \n",
       "4  2007-05-29    7900 West Foster Avenue, Chicago, IL 60656, USA   \n",
       "\n",
       "                  Species  Block           Street  Trap  \\\n",
       "0  CULEX PIPIENS/RESTUANS     41   N OAK PARK AVE  T002   \n",
       "1          CULEX RESTUANS     41   N OAK PARK AVE  T002   \n",
       "2          CULEX RESTUANS     62    N MANDELL AVE  T007   \n",
       "3  CULEX PIPIENS/RESTUANS     79     W FOSTER AVE  T015   \n",
       "4          CULEX RESTUANS     79     W FOSTER AVE  T015   \n",
       "\n",
       "              AddressNumberAndStreet   Latitude  Longitude  AddressAccuracy  \\\n",
       "0  4100  N OAK PARK AVE, Chicago, IL  41.954690 -87.800991                9   \n",
       "1  4100  N OAK PARK AVE, Chicago, IL  41.954690 -87.800991                9   \n",
       "2   6200  N MANDELL AVE, Chicago, IL  41.994991 -87.769279                9   \n",
       "3    7900  W FOSTER AVE, Chicago, IL  41.974089 -87.824812                8   \n",
       "4    7900  W FOSTER AVE, Chicago, IL  41.974089 -87.824812                8   \n",
       "\n",
       "   NumMosquitos  WnvPresent  \n",
       "0             1           0  \n",
       "1             1           0  \n",
       "2             1           0  \n",
       "3             1           0  \n",
       "4             4           0  "
      ]
     },
     "execution_count": 4,
     "metadata": {},
     "output_type": "execute_result"
    }
   ],
   "source": [
    "train.head()"
   ]
  },
  {
   "cell_type": "code",
   "execution_count": 5,
   "metadata": {},
   "outputs": [
    {
     "name": "stdout",
     "output_type": "stream",
     "text": [
      "Date    2007-05-29\n",
      "dtype: object\n",
      "Date    2013-09-26\n",
      "dtype: object\n"
     ]
    }
   ],
   "source": [
    "print(train[['Date']].min())\n",
    "print(train[['Date']].max())"
   ]
  },
  {
   "cell_type": "code",
   "execution_count": 6,
   "metadata": {},
   "outputs": [
    {
     "data": {
      "text/html": [
       "<div>\n",
       "<style scoped>\n",
       "    .dataframe tbody tr th:only-of-type {\n",
       "        vertical-align: middle;\n",
       "    }\n",
       "\n",
       "    .dataframe tbody tr th {\n",
       "        vertical-align: top;\n",
       "    }\n",
       "\n",
       "    .dataframe thead th {\n",
       "        text-align: right;\n",
       "    }\n",
       "</style>\n",
       "<table border=\"1\" class=\"dataframe\">\n",
       "  <thead>\n",
       "    <tr style=\"text-align: right;\">\n",
       "      <th></th>\n",
       "      <th>Id</th>\n",
       "      <th>Date</th>\n",
       "      <th>Address</th>\n",
       "      <th>Species</th>\n",
       "      <th>Block</th>\n",
       "      <th>Street</th>\n",
       "      <th>Trap</th>\n",
       "      <th>AddressNumberAndStreet</th>\n",
       "      <th>Latitude</th>\n",
       "      <th>Longitude</th>\n",
       "      <th>AddressAccuracy</th>\n",
       "    </tr>\n",
       "  </thead>\n",
       "  <tbody>\n",
       "    <tr>\n",
       "      <th>0</th>\n",
       "      <td>1</td>\n",
       "      <td>2008-06-11</td>\n",
       "      <td>4100 North Oak Park Avenue, Chicago, IL 60634,...</td>\n",
       "      <td>CULEX PIPIENS/RESTUANS</td>\n",
       "      <td>41</td>\n",
       "      <td>N OAK PARK AVE</td>\n",
       "      <td>T002</td>\n",
       "      <td>4100  N OAK PARK AVE, Chicago, IL</td>\n",
       "      <td>41.95469</td>\n",
       "      <td>-87.800991</td>\n",
       "      <td>9</td>\n",
       "    </tr>\n",
       "    <tr>\n",
       "      <th>1</th>\n",
       "      <td>2</td>\n",
       "      <td>2008-06-11</td>\n",
       "      <td>4100 North Oak Park Avenue, Chicago, IL 60634,...</td>\n",
       "      <td>CULEX RESTUANS</td>\n",
       "      <td>41</td>\n",
       "      <td>N OAK PARK AVE</td>\n",
       "      <td>T002</td>\n",
       "      <td>4100  N OAK PARK AVE, Chicago, IL</td>\n",
       "      <td>41.95469</td>\n",
       "      <td>-87.800991</td>\n",
       "      <td>9</td>\n",
       "    </tr>\n",
       "    <tr>\n",
       "      <th>2</th>\n",
       "      <td>3</td>\n",
       "      <td>2008-06-11</td>\n",
       "      <td>4100 North Oak Park Avenue, Chicago, IL 60634,...</td>\n",
       "      <td>CULEX PIPIENS</td>\n",
       "      <td>41</td>\n",
       "      <td>N OAK PARK AVE</td>\n",
       "      <td>T002</td>\n",
       "      <td>4100  N OAK PARK AVE, Chicago, IL</td>\n",
       "      <td>41.95469</td>\n",
       "      <td>-87.800991</td>\n",
       "      <td>9</td>\n",
       "    </tr>\n",
       "    <tr>\n",
       "      <th>3</th>\n",
       "      <td>4</td>\n",
       "      <td>2008-06-11</td>\n",
       "      <td>4100 North Oak Park Avenue, Chicago, IL 60634,...</td>\n",
       "      <td>CULEX SALINARIUS</td>\n",
       "      <td>41</td>\n",
       "      <td>N OAK PARK AVE</td>\n",
       "      <td>T002</td>\n",
       "      <td>4100  N OAK PARK AVE, Chicago, IL</td>\n",
       "      <td>41.95469</td>\n",
       "      <td>-87.800991</td>\n",
       "      <td>9</td>\n",
       "    </tr>\n",
       "    <tr>\n",
       "      <th>4</th>\n",
       "      <td>5</td>\n",
       "      <td>2008-06-11</td>\n",
       "      <td>4100 North Oak Park Avenue, Chicago, IL 60634,...</td>\n",
       "      <td>CULEX TERRITANS</td>\n",
       "      <td>41</td>\n",
       "      <td>N OAK PARK AVE</td>\n",
       "      <td>T002</td>\n",
       "      <td>4100  N OAK PARK AVE, Chicago, IL</td>\n",
       "      <td>41.95469</td>\n",
       "      <td>-87.800991</td>\n",
       "      <td>9</td>\n",
       "    </tr>\n",
       "  </tbody>\n",
       "</table>\n",
       "</div>"
      ],
      "text/plain": [
       "   Id        Date                                            Address  \\\n",
       "0   1  2008-06-11  4100 North Oak Park Avenue, Chicago, IL 60634,...   \n",
       "1   2  2008-06-11  4100 North Oak Park Avenue, Chicago, IL 60634,...   \n",
       "2   3  2008-06-11  4100 North Oak Park Avenue, Chicago, IL 60634,...   \n",
       "3   4  2008-06-11  4100 North Oak Park Avenue, Chicago, IL 60634,...   \n",
       "4   5  2008-06-11  4100 North Oak Park Avenue, Chicago, IL 60634,...   \n",
       "\n",
       "                  Species  Block           Street  Trap  \\\n",
       "0  CULEX PIPIENS/RESTUANS     41   N OAK PARK AVE  T002   \n",
       "1          CULEX RESTUANS     41   N OAK PARK AVE  T002   \n",
       "2           CULEX PIPIENS     41   N OAK PARK AVE  T002   \n",
       "3        CULEX SALINARIUS     41   N OAK PARK AVE  T002   \n",
       "4         CULEX TERRITANS     41   N OAK PARK AVE  T002   \n",
       "\n",
       "              AddressNumberAndStreet  Latitude  Longitude  AddressAccuracy  \n",
       "0  4100  N OAK PARK AVE, Chicago, IL  41.95469 -87.800991                9  \n",
       "1  4100  N OAK PARK AVE, Chicago, IL  41.95469 -87.800991                9  \n",
       "2  4100  N OAK PARK AVE, Chicago, IL  41.95469 -87.800991                9  \n",
       "3  4100  N OAK PARK AVE, Chicago, IL  41.95469 -87.800991                9  \n",
       "4  4100  N OAK PARK AVE, Chicago, IL  41.95469 -87.800991                9  "
      ]
     },
     "execution_count": 6,
     "metadata": {},
     "output_type": "execute_result"
    }
   ],
   "source": [
    "test.head()"
   ]
  },
  {
   "cell_type": "code",
   "execution_count": 7,
   "metadata": {},
   "outputs": [
    {
     "name": "stdout",
     "output_type": "stream",
     "text": [
      "Date    2008-06-11\n",
      "dtype: object\n",
      "Date    2014-10-02\n",
      "dtype: object\n"
     ]
    }
   ],
   "source": [
    "print(test[['Date']].min())\n",
    "print(test[['Date']].max())"
   ]
  },
  {
   "cell_type": "code",
   "execution_count": 8,
   "metadata": {},
   "outputs": [
    {
     "name": "stdout",
     "output_type": "stream",
     "text": [
      "Date    2011-08-29\n",
      "dtype: object\n",
      "Date    2013-09-05\n",
      "dtype: object\n"
     ]
    }
   ],
   "source": [
    "# spray data cannot cover the whole train and test dataframe\n",
    "# could not use spray data to make further consideration\n",
    "# need to find other resources about spray dataset\n",
    "\n",
    "print(spray[['Date']].min())\n",
    "print(spray[['Date']].max())"
   ]
  },
  {
   "cell_type": "code",
   "execution_count": 9,
   "metadata": {},
   "outputs": [
    {
     "data": {
      "text/html": [
       "<div>\n",
       "<style scoped>\n",
       "    .dataframe tbody tr th:only-of-type {\n",
       "        vertical-align: middle;\n",
       "    }\n",
       "\n",
       "    .dataframe tbody tr th {\n",
       "        vertical-align: top;\n",
       "    }\n",
       "\n",
       "    .dataframe thead th {\n",
       "        text-align: right;\n",
       "    }\n",
       "</style>\n",
       "<table border=\"1\" class=\"dataframe\">\n",
       "  <thead>\n",
       "    <tr style=\"text-align: right;\">\n",
       "      <th></th>\n",
       "      <th>Date</th>\n",
       "      <th>Time</th>\n",
       "      <th>Latitude</th>\n",
       "      <th>Longitude</th>\n",
       "    </tr>\n",
       "  </thead>\n",
       "  <tbody>\n",
       "    <tr>\n",
       "      <th>0</th>\n",
       "      <td>2011-08-29</td>\n",
       "      <td>6:56:58 PM</td>\n",
       "      <td>42.391623</td>\n",
       "      <td>-88.089163</td>\n",
       "    </tr>\n",
       "    <tr>\n",
       "      <th>1</th>\n",
       "      <td>2011-08-29</td>\n",
       "      <td>6:57:08 PM</td>\n",
       "      <td>42.391348</td>\n",
       "      <td>-88.089163</td>\n",
       "    </tr>\n",
       "    <tr>\n",
       "      <th>2</th>\n",
       "      <td>2011-08-29</td>\n",
       "      <td>6:57:18 PM</td>\n",
       "      <td>42.391022</td>\n",
       "      <td>-88.089157</td>\n",
       "    </tr>\n",
       "    <tr>\n",
       "      <th>3</th>\n",
       "      <td>2011-08-29</td>\n",
       "      <td>6:57:28 PM</td>\n",
       "      <td>42.390637</td>\n",
       "      <td>-88.089158</td>\n",
       "    </tr>\n",
       "    <tr>\n",
       "      <th>4</th>\n",
       "      <td>2011-08-29</td>\n",
       "      <td>6:57:38 PM</td>\n",
       "      <td>42.390410</td>\n",
       "      <td>-88.088858</td>\n",
       "    </tr>\n",
       "  </tbody>\n",
       "</table>\n",
       "</div>"
      ],
      "text/plain": [
       "         Date        Time   Latitude  Longitude\n",
       "0  2011-08-29  6:56:58 PM  42.391623 -88.089163\n",
       "1  2011-08-29  6:57:08 PM  42.391348 -88.089163\n",
       "2  2011-08-29  6:57:18 PM  42.391022 -88.089157\n",
       "3  2011-08-29  6:57:28 PM  42.390637 -88.089158\n",
       "4  2011-08-29  6:57:38 PM  42.390410 -88.088858"
      ]
     },
     "execution_count": 9,
     "metadata": {},
     "output_type": "execute_result"
    }
   ],
   "source": [
    "spray.head()"
   ]
  },
  {
   "cell_type": "markdown",
   "metadata": {},
   "source": [
    "## Data Visualization\n"
   ]
  },
  {
   "cell_type": "code",
   "execution_count": 10,
   "metadata": {},
   "outputs": [],
   "source": [
    "edv =train.copy()"
   ]
  },
  {
   "cell_type": "code",
   "execution_count": 11,
   "metadata": {},
   "outputs": [],
   "source": [
    "#Select YYYY-MM (Year_Month)\n",
    "edv['Year_Month'] = edv['Date'].apply(lambda x: str(x)[:7])\n",
    "edv['Month'] = edv['Date'].apply(lambda x: str(x)[5:7]) \n",
    "edv['Day'] = edv['Date'].apply(lambda x: str(x)[8:])\n",
    "\n",
    "def species(x):\n",
    "    if x =='CULEX PIPIENS/RESTUANS':\n",
    "        return 0\n",
    "    elif x =='CULEX RESTUANS':\n",
    "        return 1\n",
    "    elif x =='CULEX PIPIENS':\n",
    "        return 2\n",
    "    elif x =='CULEX TERRITANS':\n",
    "        return 3\n",
    "    elif x =='CULEX SALINARIUS':\n",
    "        return 4\n",
    "    elif x =='CULEX TARSALIS':\n",
    "        return 5\n",
    "    else:\n",
    "        return 6\n",
    "    \n",
    "edv['typeSpecies'] =edv['Species'].apply(lambda x : species(x))\n",
    "edv['typeSpecies'] = edv['typeSpecies'].astype('object')\n",
    "\n",
    "le = preprocessing.LabelEncoder()\n",
    "\n",
    "#train4[CAT_COLUMNS] = le.fit_transform(train4[CAT_COLUMNS])\n",
    "#train4[CAT_COLUMNS] = train4[CAT_COLUMNS].astype('object')\n",
    "\n",
    "edv['Trap'] = le.fit_transform(edv['Trap'])\n",
    "edv['Trap'] = edv['Trap'].astype('object')\n",
    "\n",
    "edv['Street'] = le.fit_transform(edv['Street'])\n",
    "edv['Street'] = edv['Street'].astype('object')"
   ]
  },
  {
   "cell_type": "code",
   "execution_count": 12,
   "metadata": {},
   "outputs": [
    {
     "data": {
      "text/plain": [
       "(array([0, 1, 2, 3, 4, 5, 6]), <a list of 7 Text xticklabel objects>)"
      ]
     },
     "execution_count": 12,
     "metadata": {},
     "output_type": "execute_result"
    },
    {
     "data": {
      "image/png": "[encoded data removed]",
      "text/plain": [
       "<matplotlib.figure.Figure at 0x10ebc9eb8>"
      ]
     },
     "metadata": {},
     "output_type": "display_data"
    }
   ],
   "source": [
    "sns.countplot(x=\"Species\",hue=\"WnvPresent\", data=train,palette=\"Set2\")\n",
    "plt.xticks(rotation=65)\n",
    "#plt.legend(loc='upper right')"
   ]
  },
  {
   "cell_type": "code",
   "execution_count": 13,
   "metadata": {},
   "outputs": [],
   "source": [
    "edv2 = pd.DataFrame({'Total_Mosquitos' : edv.groupby(['Date'])['NumMosquitos'].sum()}).reset_index()\n",
    "edv3 = pd.DataFrame({'Total_WnvPresent' : edv.groupby(['Date'])['WnvPresent'].sum()}).reset_index()\n",
    "edv4 = pd.DataFrame({'Total_WnvPresent' : edv.groupby(['Month'])['WnvPresent'].sum()}).reset_index()\n",
    "edv5 = pd.DataFrame({'Total_Mosquitos' : edv.groupby(['Month'])['NumMosquitos'].sum()}).reset_index()\n",
    "edv6 = edv.drop(['Date','Address','Species','AddressNumberAndStreet','Year_Month'], axis=1)\n",
    "edv7 = pd.DataFrame({'Total_WnvPresent' : edv.groupby(['Year_Month'])['WnvPresent'].sum()}).reset_index()\n",
    "edv8 = pd.DataFrame({'Total_Mosquitos' : edv.groupby(['Year_Month'])['NumMosquitos'].sum()}).reset_index()"
   ]
  },
  {
   "cell_type": "code",
   "execution_count": 14,
   "metadata": {},
   "outputs": [
    {
     "data": {
      "image/png": "[encoded data removed]",
      "text/plain": [
       "<matplotlib.figure.Figure at 0x1a16f09198>"
      ]
     },
     "metadata": {},
     "output_type": "display_data"
    }
   ],
   "source": [
    "plt.figure(figsize=(30,10))\n",
    "plt.plot_date(x=edv2['Date'], y=edv2['Total_Mosquitos'], fmt=\"#51C7CB\",linewidth=6)\n",
    "plt.title(\"Number of Mosquitos Trend\")\n",
    "plt.ylabel(\"Total Virus Case Present\")\n",
    "plt.xticks(rotation=30)\n",
    "plt.grid(True)\n",
    "#plt.show()"
   ]
  },
  {
   "cell_type": "code",
   "execution_count": 15,
   "metadata": {},
   "outputs": [
    {
     "data": {
      "image/png": "[encoded data removed]",
      "text/plain": [
       "<matplotlib.figure.Figure at 0x1a17ba6ac8>"
      ]
     },
     "metadata": {},
     "output_type": "display_data"
    }
   ],
   "source": [
    "plt.figure(figsize=(30,10))\n",
    "plt.plot_date(x=edv3['Date'], y=edv3['Total_WnvPresent'], fmt=\"#51C7CB\",linewidth=6)\n",
    "plt.title(\"West Nile virus Present Trend\")\n",
    "plt.ylabel(\"Total Virus Case Present\")\n",
    "plt.xticks(rotation=30)\n",
    "plt.grid(True)\n",
    "#plt.show()"
   ]
  },
  {
   "cell_type": "code",
   "execution_count": 16,
   "metadata": {},
   "outputs": [
    {
     "data": {
      "image/png": "[encoded data removed]",
      "text/plain": [
       "<matplotlib.figure.Figure at 0x1a17ba2048>"
      ]
     },
     "metadata": {},
     "output_type": "display_data"
    }
   ],
   "source": [
    "plt.figure(figsize=(10,5))\n",
    "plt.plot_date(x=edv4['Month'], y=edv4['Total_WnvPresent'], fmt=\"#51C7CB\",linewidth=6)\n",
    "plt.title(\"West Nile virus Present Trend\")\n",
    "plt.ylabel(\"Total Virus Case Present\")\n",
    "plt.xticks(rotation=30)\n",
    "plt.grid(True)\n",
    "#plt.show()"
   ]
  },
  {
   "cell_type": "markdown",
   "metadata": {},
   "source": [
    "WBV virus spreads out during the summer time from June to Sep.I could image time (month and day) will be a correlation with WNV Present.There is no statistical significant correlation between number of Mosquitos and WNV present."
   ]
  },
  {
   "cell_type": "code",
   "execution_count": 17,
   "metadata": {},
   "outputs": [
    {
     "data": {
      "text/plain": [
       "0.20469632782239508"
      ]
     },
     "execution_count": 17,
     "metadata": {},
     "output_type": "execute_result"
    }
   ],
   "source": [
    "import scipy\n",
    "\n",
    "#spearman\n",
    "scipy.stats.stats.spearmanr(edv['NumMosquitos'],edv['WnvPresent'])[0]"
   ]
  },
  {
   "cell_type": "code",
   "execution_count": 18,
   "metadata": {},
   "outputs": [],
   "source": [
    "edv6_1 =pd.get_dummies(edv6, columns =['typeSpecies','Month'])"
   ]
  },
  {
   "cell_type": "code",
   "execution_count": 19,
   "metadata": {},
   "outputs": [
    {
     "data": {
      "text/plain": [
       "(array([  0.5,   1.5,   2.5,   3.5,   4.5,   5.5,   6.5,   7.5,   8.5,\n",
       "          9.5,  10.5,  11.5,  12.5,  13.5,  14.5,  15.5,  16.5,  17.5,  18.5]),\n",
       " <a list of 19 Text xticklabel objects>)"
      ]
     },
     "execution_count": 19,
     "metadata": {},
     "output_type": "execute_result"
    },
    {
     "data": {
      "image/png": "[encoded data removed]",
      "text/plain": [
       "<matplotlib.figure.Figure at 0x1a17ba25c0>"
      ]
     },
     "metadata": {},
     "output_type": "display_data"
    }
   ],
   "source": [
    "# Compute the correlation matrix\n",
    "corr_edv = edv6_1.corr()\n",
    "\n",
    "# Generate a mask for the upper triangle\n",
    "mask = np.zeros_like(corr_edv, dtype=np.bool)\n",
    "mask[np.triu_indices_from(mask)] = True\n",
    "\n",
    "# Set up the matplotlib figure\n",
    "f, ax = plt.subplots(figsize=(10, 10))\n",
    "\n",
    "# Generate a custom diverging colormap\n",
    "cmap = sns.diverging_palette(220, 10, as_cmap=True)\n",
    "\n",
    "# Draw the heatmap with the mask and correct aspect ratio\n",
    "sns.heatmap(corr_edv, mask=mask, cmap=cmap, vmax=.3, center=0,\n",
    "            square=True, linewidths=.5, cbar_kws={\"shrink\": .5})\n",
    "plt.xticks(rotation=50)"
   ]
  },
  {
   "cell_type": "code",
   "execution_count": 20,
   "metadata": {},
   "outputs": [
    {
     "data": {
      "text/plain": [
       "<matplotlib.legend.Legend at 0x1a217f7be0>"
      ]
     },
     "execution_count": 20,
     "metadata": {},
     "output_type": "execute_result"
    },
    {
     "data": {
      "image/png": "[encoded data removed]",
      "text/plain": [
       "<matplotlib.figure.Figure at 0x1a21733470>"
      ]
     },
     "metadata": {},
     "output_type": "display_data"
    }
   ],
   "source": [
    "fig = plt.figure(figsize=(12,10))\n",
    "\n",
    "plt.subplot(2,1, 1)\n",
    "plt.plot_date(x=edv7['Year_Month'], y=edv7['Total_WnvPresent'], fmt=\"#FC7E2A\",linewidth=6)\n",
    "plt.title(\"West Nile virus Present Trend\")\n",
    "plt.ylabel(\"Total Virus Case Present\")\n",
    "plt.xticks(rotation=30)\n",
    "plt.grid(True)\n",
    "plt.legend()\n",
    "#plt.show()\n",
    "\n",
    "plt.subplot(2,1, 2)\n",
    "plt.plot_date(x=edv8['Year_Month'], y=edv8['Total_Mosquitos'], fmt=\"#51C7CB\",linewidth=6)\n",
    "plt.title(\"Number of Mosquitos Trend\")\n",
    "plt.ylabel(\"Total Number of Mosquitos\")\n",
    "plt.xticks(rotation=30)\n",
    "plt.grid(True)\n",
    "plt.legend()\n",
    "\n",
    "#plt.show()"
   ]
  },
  {
   "cell_type": "code",
   "execution_count": 30,
   "metadata": {
    "scrolled": true
   },
   "outputs": [
    {
     "data": {
      "text/plain": [
       "Text(0,0.5,'# WnvPresent')"
      ]
     },
     "execution_count": 30,
     "metadata": {},
     "output_type": "execute_result"
    },
    {
     "data": {
      "image/png": "[encoded data removed]",
      "text/plain": [
       "<matplotlib.figure.Figure at 0x1a28be6c88>"
      ]
     },
     "metadata": {},
     "output_type": "display_data"
    }
   ],
   "source": [
    "fig = plt.figure(figsize=(30,20))\n",
    "\n",
    "train.groupby('Trap')['WnvPresent'].sum().sort_values(ascending =False).plot.bar(color=\"#FC7E2A\",alpha=0.8)\n",
    "plt.title(\"WnvPresent Trend by Trap\")\n",
    "plt.ylabel(\"# WnvPresent\")"
   ]
  },
  {
   "cell_type": "code",
   "execution_count": 938,
   "metadata": {},
   "outputs": [
    {
     "data": {
      "text/plain": [
       "(array([ 0,  1,  2,  3,  4,  5,  6,  7,  8,  9, 10, 11, 12, 13, 14, 15, 16,\n",
       "        17, 18, 19, 20, 21, 22, 23, 24, 25, 26, 27, 28, 29]),\n",
       " <a list of 30 Text xticklabel objects>)"
      ]
     },
     "execution_count": 938,
     "metadata": {},
     "output_type": "execute_result"
    },
    {
     "data": {
      "image/png": "[encoded data removed]",
      "text/plain": [
       "<matplotlib.figure.Figure at 0x1a24989908>"
      ]
     },
     "metadata": {},
     "output_type": "display_data"
    }
   ],
   "source": [
    "fig = plt.figure(figsize=(10,5))\n",
    "edv.groupby('Day')['WnvPresent'].mean().plot.bar(color=\"#51C7CB\")\n",
    "edv.groupby('Day')['WnvPresent'].mean().plot()\n",
    "plt.title(\"WnvPresent Trend by DAY\")\n",
    "plt.ylabel(\"Prob. WnvPresent\")\n",
    "plt.xticks(rotation=30)"
   ]
  },
  {
   "cell_type": "code",
   "execution_count": 932,
   "metadata": {},
   "outputs": [],
   "source": [
    "#build heatmap\n",
    "edv_map =edv.loc[edv['NumMosquitos'] >0]"
   ]
  },
  {
   "cell_type": "code",
   "execution_count": 212,
   "metadata": {},
   "outputs": [],
   "source": [
    "lat = edv_map[\"Latitude\"]\n",
    "lon = edv_map[\"Longitude\"]\n",
    "\n",
    "lat_m =edv.loc[edv['WnvPresent'] ==1][\"Latitude\"]\n",
    "lon_m =edv.loc[edv['WnvPresent'] ==1][\"Longitude\"]\n",
    "\n",
    "lat_s1 =edv.loc[edv['Species'] =='CULEX PIPIENS/RESTUANS'][\"Latitude\"]\n",
    "lon_s1 =edv.loc[edv['Species'] =='CULEX PIPIENS/RESTUANS'][\"Longitude\"]\n",
    "\n",
    "lat_s2 =edv.loc[edv['Species'] =='CULEX RESTUANS'][\"Latitude\"]\n",
    "lon_s2 =edv.loc[edv['Species'] =='CULEX RESTUANS'][\"Longitude\"]\n",
    "\n",
    "lat_s3 =edv.loc[edv['Species'] =='CULEX PIPIENS'][\"Latitude\"]\n",
    "lon_s3 =edv.loc[edv['Species'] =='CULEX PIPIENS'][\"Longitude\"]\n",
    "\n",
    "lat_s4 =edv.loc[edv['Species'] =='CULEX TERRITANS'][\"Latitude\"]\n",
    "lon_s4 =edv.loc[edv['Species'] =='CULEX TERRITANS'][\"Longitude\"]\n",
    "\n",
    "lat_s5 =edv.loc[edv['Species'] =='CULEX SALINARIUS'][\"Latitude\"]\n",
    "lon_s5 =edv.loc[edv['Species'] =='CULEX SALINARIUS'][\"Longitude\"]\n",
    "\n",
    "lat_s6 =edv.loc[edv['Species'] =='CULEX TARSALIS'][\"Latitude\"]\n",
    "lon_s6 =edv.loc[edv['Species'] =='CULEX TARSALIS'][\"Longitude\"]\n",
    "\n",
    "lat_s7 =edv.loc[edv['Species'] =='CULEX ERRATICUS'][\"Latitude\"]\n",
    "lon_s7 =edv.loc[edv['Species'] =='CULEX ERRATICUS'][\"Longitude\"]\n",
    "\n",
    "lat_sp = spray[\"Latitude\"]\n",
    "lon_sp = spray[\"Longitude\"]"
   ]
  },
  {
   "cell_type": "code",
   "execution_count": 239,
   "metadata": {},
   "outputs": [],
   "source": [
    "lat_limit =edv.loc[(edv['Date'] >= '2011-01-01' )& (edv['Date'] <= '2013-12-31')][\"Latitude\"]\n",
    "lon_limit =edv.loc[(edv['Date'] >= '2011-01-01' )& (edv['Date'] <= '2013-12-31')][\"Longitude\"]"
   ]
  },
  {
   "cell_type": "code",
   "execution_count": 947,
   "metadata": {},
   "outputs": [],
   "source": [
    "gmap = gmplot.GoogleMapPlotter(41.881832, -87.623177,15)\n",
    "gmap.heatmap(lat, lon)\n",
    "gmap.marker(41.995, -87.933, 'cornflowerblue') #station 1\n",
    "gmap.marker(41.786, -87.752, 'cornflowerblue') #station 2\n",
    "gmap.scatter(lat, lon, '#8F4EF2', size=300, marker=False)\n",
    "gmap.scatter(lat_m, lon_m, '#ECF24E', size=800,marker=False)\n",
    "gmap.scatter(lat_sp, lon_sp, '#F24EE7', size=100,marker=False)\n",
    "gmap.draw('map.html')"
   ]
  },
  {
   "cell_type": "code",
   "execution_count": 224,
   "metadata": {},
   "outputs": [],
   "source": [
    "gmap2 = gmplot.GoogleMapPlotter(41.881832, -87.623177,15)\n",
    "gmap2.heatmap(lat_m, lon_m)\n",
    "gmap2.scatter(lat_s1, lon_s1, '#F24E8A', size=100, marker=False)\n",
    "gmap2.scatter(lat_s2, lon_s2, '#F24EE7', size=200,marker=False)\n",
    "gmap2.scatter(lat_s3, lon_s3, '#954EF2', size=300, marker=False)\n",
    "gmap2.scatter(lat_s4, lon_s4, '#4EF28A', size=400,marker=False)\n",
    "gmap2.scatter(lat_s5, lon_s5, '#4EE7F2', size=500, marker=False)\n",
    "gmap2.scatter(lat_s6, lon_s6, '#E7F24E', size=600,marker=False)\n",
    "gmap2.scatter(lat_s7, lon_s7, '#F2594E', size=700, marker=False)\n",
    "#gmap2.scatter(lat_m, lon_m, 'k',marker=True)\n",
    "gmap2.draw('map2.html')"
   ]
  },
  {
   "cell_type": "markdown",
   "metadata": {},
   "source": [
    "## Data Cleaning"
   ]
  },
  {
   "cell_type": "code",
   "execution_count": 23,
   "metadata": {},
   "outputs": [
    {
     "data": {
      "text/plain": [
       "Date                       object\n",
       "Address                    object\n",
       "Species                    object\n",
       "Block                       int64\n",
       "Street                     object\n",
       "Trap                       object\n",
       "AddressNumberAndStreet     object\n",
       "Latitude                  float64\n",
       "Longitude                 float64\n",
       "AddressAccuracy             int64\n",
       "NumMosquitos                int64\n",
       "WnvPresent                  int64\n",
       "dtype: object"
      ]
     },
     "execution_count": 23,
     "metadata": {},
     "output_type": "execute_result"
    }
   ],
   "source": [
    "train.dtypes"
   ]
  },
  {
   "cell_type": "code",
   "execution_count": 24,
   "metadata": {},
   "outputs": [
    {
     "data": {
      "text/plain": [
       "0    9955\n",
       "1     551\n",
       "Name: WnvPresent, dtype: int64"
      ]
     },
     "execution_count": 24,
     "metadata": {},
     "output_type": "execute_result"
    }
   ],
   "source": [
    "#target label\n",
    "train['WnvPresent'].value_counts()"
   ]
  },
  {
   "cell_type": "code",
   "execution_count": 25,
   "metadata": {},
   "outputs": [
    {
     "data": {
      "text/plain": [
       "<matplotlib.axes._subplots.AxesSubplot at 0x1a0bfd07f0>"
      ]
     },
     "execution_count": 25,
     "metadata": {},
     "output_type": "execute_result"
    },
    {
     "data": {
      "image/png": "[encoded data removed]",
      "text/plain": [
       "<matplotlib.figure.Figure at 0x1a0bf29518>"
      ]
     },
     "metadata": {},
     "output_type": "display_data"
    }
   ],
   "source": [
    "sns.countplot(x=\"WnvPresent\", data=train)"
   ]
  },
  {
   "cell_type": "code",
   "execution_count": 26,
   "metadata": {},
   "outputs": [
    {
     "data": {
      "text/plain": [
       "CULEX PIPIENS/RESTUANS    4752\n",
       "CULEX RESTUANS            2740\n",
       "CULEX PIPIENS             2699\n",
       "CULEX TERRITANS            222\n",
       "CULEX SALINARIUS            86\n",
       "CULEX TARSALIS               6\n",
       "CULEX ERRATICUS              1\n",
       "Name: Species, dtype: int64"
      ]
     },
     "execution_count": 26,
     "metadata": {},
     "output_type": "execute_result"
    }
   ],
   "source": [
    "#type of species\n",
    "train['Species'].value_counts()"
   ]
  },
  {
   "cell_type": "code",
   "execution_count": 27,
   "metadata": {},
   "outputs": [
    {
     "data": {
      "text/plain": [
       "(array([0, 1, 2, 3, 4, 5, 6]), <a list of 7 Text xticklabel objects>)"
      ]
     },
     "execution_count": 27,
     "metadata": {},
     "output_type": "execute_result"
    },
    {
     "data": {
      "image/png": "[encoded data removed]",
      "text/plain": [
       "<matplotlib.figure.Figure at 0x1a0c3a9a20>"
      ]
     },
     "metadata": {},
     "output_type": "display_data"
    }
   ],
   "source": [
    "sns.countplot(x=\"Species\", data=train)\n",
    "plt.xticks(rotation=35)"
   ]
  },
  {
   "cell_type": "code",
   "execution_count": 28,
   "metadata": {},
   "outputs": [
    {
     "data": {
      "text/plain": [
       "AddressNumberAndStreet    0.0\n",
       "Trap                      0.0\n",
       "Street                    0.0\n",
       "Species                   0.0\n",
       "Address                   0.0\n",
       "Date                      0.0\n",
       "dtype: float64"
      ]
     },
     "execution_count": 28,
     "metadata": {},
     "output_type": "execute_result"
    }
   ],
   "source": [
    "#check missing value train \n",
    "#categorical features\n",
    "miss_category_tr = train.select_dtypes(include=['object'])\n",
    "miss_cate_rate_tr = miss_category_tr.isnull().sum(axis =0)/float(len(miss_category_tr))\n",
    "miss_cate_rate_tr.sort_values(ascending=False)"
   ]
  },
  {
   "cell_type": "code",
   "execution_count": 29,
   "metadata": {},
   "outputs": [
    {
     "data": {
      "text/plain": [
       "WnvPresent         0.0\n",
       "NumMosquitos       0.0\n",
       "AddressAccuracy    0.0\n",
       "Longitude          0.0\n",
       "Latitude           0.0\n",
       "Block              0.0\n",
       "dtype: float64"
      ]
     },
     "execution_count": 29,
     "metadata": {},
     "output_type": "execute_result"
    }
   ],
   "source": [
    "# check numerical features train\n",
    "miss_numerical_tr = train.select_dtypes(exclude=['object'])\n",
    "miss_num_rate_tr = miss_numerical_tr.isnull().sum(axis =0)/float(len(miss_numerical_tr))\n",
    "miss_num_rate_tr.sort_values(ascending=False)"
   ]
  },
  {
   "cell_type": "code",
   "execution_count": 30,
   "metadata": {},
   "outputs": [],
   "source": [
    "def species(x):\n",
    "    if x =='CULEX PIPIENS/RESTUANS':\n",
    "        return 0\n",
    "    elif x =='CULEX RESTUANS':\n",
    "        return 1\n",
    "    elif x =='CULEX PIPIENS':\n",
    "        return 2\n",
    "    elif x =='CULEX TERRITANS':\n",
    "        return 3\n",
    "    elif x =='CULEX SALINARIUS':\n",
    "        return 4\n",
    "    elif x =='CULEX TARSALIS':\n",
    "        return 5\n",
    "    else:\n",
    "        return 6"
   ]
  },
  {
   "cell_type": "code",
   "execution_count": 31,
   "metadata": {},
   "outputs": [],
   "source": [
    "train['typeSpecies'] =train['Species'].apply(lambda x : species(x))\n",
    "train['typeSpecies'] = train['typeSpecies'].astype('object')\n",
    "\n",
    "train['Block'] = train['Block'].astype('object') #convert block to categorical\n",
    "\n",
    "#drop feature\n",
    "train2 =train.drop(['Species','Address','AddressNumberAndStreet','Street'],1)"
   ]
  },
  {
   "cell_type": "code",
   "execution_count": 32,
   "metadata": {},
   "outputs": [
    {
     "data": {
      "text/html": [
       "<div>\n",
       "<style scoped>\n",
       "    .dataframe tbody tr th:only-of-type {\n",
       "        vertical-align: middle;\n",
       "    }\n",
       "\n",
       "    .dataframe tbody tr th {\n",
       "        vertical-align: top;\n",
       "    }\n",
       "\n",
       "    .dataframe thead th {\n",
       "        text-align: right;\n",
       "    }\n",
       "</style>\n",
       "<table border=\"1\" class=\"dataframe\">\n",
       "  <thead>\n",
       "    <tr style=\"text-align: right;\">\n",
       "      <th></th>\n",
       "      <th>Date</th>\n",
       "      <th>Block</th>\n",
       "      <th>Trap</th>\n",
       "      <th>Latitude</th>\n",
       "      <th>Longitude</th>\n",
       "      <th>AddressAccuracy</th>\n",
       "      <th>NumMosquitos</th>\n",
       "      <th>WnvPresent</th>\n",
       "      <th>typeSpecies</th>\n",
       "    </tr>\n",
       "  </thead>\n",
       "  <tbody>\n",
       "    <tr>\n",
       "      <th>0</th>\n",
       "      <td>2007-05-29</td>\n",
       "      <td>41</td>\n",
       "      <td>T002</td>\n",
       "      <td>41.954690</td>\n",
       "      <td>-87.800991</td>\n",
       "      <td>9</td>\n",
       "      <td>1</td>\n",
       "      <td>0</td>\n",
       "      <td>0</td>\n",
       "    </tr>\n",
       "    <tr>\n",
       "      <th>1</th>\n",
       "      <td>2007-05-29</td>\n",
       "      <td>41</td>\n",
       "      <td>T002</td>\n",
       "      <td>41.954690</td>\n",
       "      <td>-87.800991</td>\n",
       "      <td>9</td>\n",
       "      <td>1</td>\n",
       "      <td>0</td>\n",
       "      <td>1</td>\n",
       "    </tr>\n",
       "    <tr>\n",
       "      <th>2</th>\n",
       "      <td>2007-05-29</td>\n",
       "      <td>62</td>\n",
       "      <td>T007</td>\n",
       "      <td>41.994991</td>\n",
       "      <td>-87.769279</td>\n",
       "      <td>9</td>\n",
       "      <td>1</td>\n",
       "      <td>0</td>\n",
       "      <td>1</td>\n",
       "    </tr>\n",
       "    <tr>\n",
       "      <th>3</th>\n",
       "      <td>2007-05-29</td>\n",
       "      <td>79</td>\n",
       "      <td>T015</td>\n",
       "      <td>41.974089</td>\n",
       "      <td>-87.824812</td>\n",
       "      <td>8</td>\n",
       "      <td>1</td>\n",
       "      <td>0</td>\n",
       "      <td>0</td>\n",
       "    </tr>\n",
       "    <tr>\n",
       "      <th>4</th>\n",
       "      <td>2007-05-29</td>\n",
       "      <td>79</td>\n",
       "      <td>T015</td>\n",
       "      <td>41.974089</td>\n",
       "      <td>-87.824812</td>\n",
       "      <td>8</td>\n",
       "      <td>4</td>\n",
       "      <td>0</td>\n",
       "      <td>1</td>\n",
       "    </tr>\n",
       "  </tbody>\n",
       "</table>\n",
       "</div>"
      ],
      "text/plain": [
       "         Date Block  Trap   Latitude  Longitude  AddressAccuracy  \\\n",
       "0  2007-05-29    41  T002  41.954690 -87.800991                9   \n",
       "1  2007-05-29    41  T002  41.954690 -87.800991                9   \n",
       "2  2007-05-29    62  T007  41.994991 -87.769279                9   \n",
       "3  2007-05-29    79  T015  41.974089 -87.824812                8   \n",
       "4  2007-05-29    79  T015  41.974089 -87.824812                8   \n",
       "\n",
       "   NumMosquitos  WnvPresent typeSpecies  \n",
       "0             1           0           0  \n",
       "1             1           0           1  \n",
       "2             1           0           1  \n",
       "3             1           0           0  \n",
       "4             4           0           1  "
      ]
     },
     "execution_count": 32,
     "metadata": {},
     "output_type": "execute_result"
    }
   ],
   "source": [
    "#final clean data - train\n",
    "train2.head()"
   ]
  },
  {
   "cell_type": "code",
   "execution_count": 33,
   "metadata": {},
   "outputs": [
    {
     "data": {
      "text/plain": [
       "(10506, 9)"
      ]
     },
     "execution_count": 33,
     "metadata": {},
     "output_type": "execute_result"
    }
   ],
   "source": [
    "train2.shape"
   ]
  },
  {
   "cell_type": "markdown",
   "metadata": {},
   "source": [
    "### Test data"
   ]
  },
  {
   "cell_type": "code",
   "execution_count": 34,
   "metadata": {},
   "outputs": [
    {
     "data": {
      "text/plain": [
       "AddressNumberAndStreet    0.0\n",
       "Trap                      0.0\n",
       "Street                    0.0\n",
       "Species                   0.0\n",
       "Address                   0.0\n",
       "Date                      0.0\n",
       "dtype: float64"
      ]
     },
     "execution_count": 34,
     "metadata": {},
     "output_type": "execute_result"
    }
   ],
   "source": [
    "#check missing value -test data\n",
    "#categorical features\n",
    "miss_category_te = test.select_dtypes(include=['object'])\n",
    "miss_cate_rate_te = miss_category_te.isnull().sum(axis =0)/float(len(miss_category_te))\n",
    "miss_cate_rate_te.sort_values(ascending=False)"
   ]
  },
  {
   "cell_type": "code",
   "execution_count": 35,
   "metadata": {},
   "outputs": [
    {
     "data": {
      "text/plain": [
       "AddressAccuracy    0.0\n",
       "Longitude          0.0\n",
       "Latitude           0.0\n",
       "Block              0.0\n",
       "Id                 0.0\n",
       "dtype: float64"
      ]
     },
     "execution_count": 35,
     "metadata": {},
     "output_type": "execute_result"
    }
   ],
   "source": [
    "# check numerical features -test data\n",
    "miss_numerical_te = test.select_dtypes(exclude=['object'])\n",
    "miss_num_rate_te = miss_numerical_te.isnull().sum(axis =0)/float(len(miss_numerical_te))\n",
    "miss_num_rate_te.sort_values(ascending=False)"
   ]
  },
  {
   "cell_type": "code",
   "execution_count": 36,
   "metadata": {},
   "outputs": [],
   "source": [
    "test['typeSpecies'] =test['Species'].apply(lambda x : species(x))\n",
    "test['typeSpecies'] = test['typeSpecies'].astype('object')\n",
    "\n",
    "test['Block'] = test['Block'].astype('object') #convert block to categorical\n",
    "\n",
    "#drop feature\n",
    "test2 =test.drop(['Species','Address','AddressNumberAndStreet','Street'],1)"
   ]
  },
  {
   "cell_type": "markdown",
   "metadata": {},
   "source": [
    "## Change features in weather data\n",
    "\n",
    "M -Missing value <br/>\n",
    "T -Trace<br/>\n",
    "\n",
    "**Station 1:** CHICAGO O'HARE INTERNATIONAL AIRPORT Lat: 41.995 Lon: -87.933 Elev: 662 ft. above sea level <br/>\n",
    "**Station 2:** CHICAGO MIDWAY INTL ARPT Lat: 41.786 Lon: -87.752 Elev: 612 ft. above sea level\n",
    "\n",
    "### Numerical :\n",
    "\n",
    "Heat -- HEATING (SEASON BEGINS WITH JULY) <br/>\n",
    "Cool -- COOLING (SEASON BEGINS WITH JANUARY) <br/>\n",
    "Depart -- TEMPERATURE DEPARTURE FROM NORMAL <br/>\n",
    "Depth -- Max 24 hrs snow depth <br/>\n",
    "Water1 -- WATER EQUIVALENT <br/>\n",
    "SnowFall -- SNOWFALL(INCHES AND TENTHS) T = TRACE ,M = MISSING DATA <br/>\n",
    "PrecipTotal -- Total Precipitation(inches) <br/>\n",
    "SeaLevel -- AVERAGE SEA LEVEL PRESSURE  <br/>\n",
    "AvgSpeed -- AVERAGE SPEED <br/>\n",
    "ResultDir -- RESULTANT DIRECTION <br/>\n",
    "ResultSpeed -- RESULTANT WIND SPEED<br/>\n",
    "WebBulb -- wet bulb temperatures \n",
    "\n",
    "Tmax, Tmin, Tavg, DewPoint  ,WetBulb ,Depart ,Depth ,PrecipTotal ,StnPressure ,SeaLevel ,ResultSpeed ,ResultDir ,AvgSpeed ,Water1 ,SnowFall ,Heat ,Cool\n",
    "\n",
    "### Categorical :\n",
    "Sunrise ,Sunset ,CodeSum\n",
    "\n",
    "\n"
   ]
  },
  {
   "cell_type": "code",
   "execution_count": 37,
   "metadata": {},
   "outputs": [
    {
     "data": {
      "text/html": [
       "<div>\n",
       "<style scoped>\n",
       "    .dataframe tbody tr th:only-of-type {\n",
       "        vertical-align: middle;\n",
       "    }\n",
       "\n",
       "    .dataframe tbody tr th {\n",
       "        vertical-align: top;\n",
       "    }\n",
       "\n",
       "    .dataframe thead th {\n",
       "        text-align: right;\n",
       "    }\n",
       "</style>\n",
       "<table border=\"1\" class=\"dataframe\">\n",
       "  <thead>\n",
       "    <tr style=\"text-align: right;\">\n",
       "      <th></th>\n",
       "      <th>Station</th>\n",
       "      <th>Date</th>\n",
       "      <th>Tmax</th>\n",
       "      <th>Tmin</th>\n",
       "      <th>Tavg</th>\n",
       "      <th>Depart</th>\n",
       "      <th>DewPoint</th>\n",
       "      <th>WetBulb</th>\n",
       "      <th>Heat</th>\n",
       "      <th>Cool</th>\n",
       "      <th>...</th>\n",
       "      <th>CodeSum</th>\n",
       "      <th>Depth</th>\n",
       "      <th>Water1</th>\n",
       "      <th>SnowFall</th>\n",
       "      <th>PrecipTotal</th>\n",
       "      <th>StnPressure</th>\n",
       "      <th>SeaLevel</th>\n",
       "      <th>ResultSpeed</th>\n",
       "      <th>ResultDir</th>\n",
       "      <th>AvgSpeed</th>\n",
       "    </tr>\n",
       "  </thead>\n",
       "  <tbody>\n",
       "    <tr>\n",
       "      <th>0</th>\n",
       "      <td>1</td>\n",
       "      <td>2007-05-01</td>\n",
       "      <td>83</td>\n",
       "      <td>50</td>\n",
       "      <td>67</td>\n",
       "      <td>14</td>\n",
       "      <td>51</td>\n",
       "      <td>56</td>\n",
       "      <td>0</td>\n",
       "      <td>2</td>\n",
       "      <td>...</td>\n",
       "      <td></td>\n",
       "      <td>0</td>\n",
       "      <td>M</td>\n",
       "      <td>0.0</td>\n",
       "      <td>0.00</td>\n",
       "      <td>29.10</td>\n",
       "      <td>29.82</td>\n",
       "      <td>1.7</td>\n",
       "      <td>27</td>\n",
       "      <td>9.2</td>\n",
       "    </tr>\n",
       "    <tr>\n",
       "      <th>1</th>\n",
       "      <td>2</td>\n",
       "      <td>2007-05-01</td>\n",
       "      <td>84</td>\n",
       "      <td>52</td>\n",
       "      <td>68</td>\n",
       "      <td>M</td>\n",
       "      <td>51</td>\n",
       "      <td>57</td>\n",
       "      <td>0</td>\n",
       "      <td>3</td>\n",
       "      <td>...</td>\n",
       "      <td></td>\n",
       "      <td>M</td>\n",
       "      <td>M</td>\n",
       "      <td>M</td>\n",
       "      <td>0.00</td>\n",
       "      <td>29.18</td>\n",
       "      <td>29.82</td>\n",
       "      <td>2.7</td>\n",
       "      <td>25</td>\n",
       "      <td>9.6</td>\n",
       "    </tr>\n",
       "    <tr>\n",
       "      <th>2</th>\n",
       "      <td>1</td>\n",
       "      <td>2007-05-02</td>\n",
       "      <td>59</td>\n",
       "      <td>42</td>\n",
       "      <td>51</td>\n",
       "      <td>-3</td>\n",
       "      <td>42</td>\n",
       "      <td>47</td>\n",
       "      <td>14</td>\n",
       "      <td>0</td>\n",
       "      <td>...</td>\n",
       "      <td>BR</td>\n",
       "      <td>0</td>\n",
       "      <td>M</td>\n",
       "      <td>0.0</td>\n",
       "      <td>0.00</td>\n",
       "      <td>29.38</td>\n",
       "      <td>30.09</td>\n",
       "      <td>13.0</td>\n",
       "      <td>4</td>\n",
       "      <td>13.4</td>\n",
       "    </tr>\n",
       "    <tr>\n",
       "      <th>3</th>\n",
       "      <td>2</td>\n",
       "      <td>2007-05-02</td>\n",
       "      <td>60</td>\n",
       "      <td>43</td>\n",
       "      <td>52</td>\n",
       "      <td>M</td>\n",
       "      <td>42</td>\n",
       "      <td>47</td>\n",
       "      <td>13</td>\n",
       "      <td>0</td>\n",
       "      <td>...</td>\n",
       "      <td>BR HZ</td>\n",
       "      <td>M</td>\n",
       "      <td>M</td>\n",
       "      <td>M</td>\n",
       "      <td>0.00</td>\n",
       "      <td>29.44</td>\n",
       "      <td>30.08</td>\n",
       "      <td>13.3</td>\n",
       "      <td>2</td>\n",
       "      <td>13.4</td>\n",
       "    </tr>\n",
       "    <tr>\n",
       "      <th>4</th>\n",
       "      <td>1</td>\n",
       "      <td>2007-05-03</td>\n",
       "      <td>66</td>\n",
       "      <td>46</td>\n",
       "      <td>56</td>\n",
       "      <td>2</td>\n",
       "      <td>40</td>\n",
       "      <td>48</td>\n",
       "      <td>9</td>\n",
       "      <td>0</td>\n",
       "      <td>...</td>\n",
       "      <td></td>\n",
       "      <td>0</td>\n",
       "      <td>M</td>\n",
       "      <td>0.0</td>\n",
       "      <td>0.00</td>\n",
       "      <td>29.39</td>\n",
       "      <td>30.12</td>\n",
       "      <td>11.7</td>\n",
       "      <td>7</td>\n",
       "      <td>11.9</td>\n",
       "    </tr>\n",
       "  </tbody>\n",
       "</table>\n",
       "<p>5 rows × 22 columns</p>\n",
       "</div>"
      ],
      "text/plain": [
       "   Station        Date  Tmax  Tmin Tavg Depart  DewPoint WetBulb Heat Cool  \\\n",
       "0        1  2007-05-01    83    50   67     14        51      56    0    2   \n",
       "1        2  2007-05-01    84    52   68      M        51      57    0    3   \n",
       "2        1  2007-05-02    59    42   51     -3        42      47   14    0   \n",
       "3        2  2007-05-02    60    43   52      M        42      47   13    0   \n",
       "4        1  2007-05-03    66    46   56      2        40      48    9    0   \n",
       "\n",
       "     ...    CodeSum Depth Water1 SnowFall PrecipTotal StnPressure SeaLevel  \\\n",
       "0    ...                0      M      0.0        0.00       29.10    29.82   \n",
       "1    ...                M      M        M        0.00       29.18    29.82   \n",
       "2    ...         BR     0      M      0.0        0.00       29.38    30.09   \n",
       "3    ...      BR HZ     M      M        M        0.00       29.44    30.08   \n",
       "4    ...                0      M      0.0        0.00       29.39    30.12   \n",
       "\n",
       "  ResultSpeed ResultDir  AvgSpeed  \n",
       "0         1.7        27       9.2  \n",
       "1         2.7        25       9.6  \n",
       "2        13.0         4      13.4  \n",
       "3        13.3         2      13.4  \n",
       "4        11.7         7      11.9  \n",
       "\n",
       "[5 rows x 22 columns]"
      ]
     },
     "execution_count": 37,
     "metadata": {},
     "output_type": "execute_result"
    }
   ],
   "source": [
    "weather.head()"
   ]
  },
  {
   "cell_type": "code",
   "execution_count": 38,
   "metadata": {},
   "outputs": [],
   "source": [
    "weather1 =weather.copy()"
   ]
  },
  {
   "cell_type": "code",
   "execution_count": 39,
   "metadata": {},
   "outputs": [],
   "source": [
    "#convert into float\n",
    "def conv_float(x):\n",
    "    for i in x:\n",
    "        weather1[x] = weather1[x].astype('float64')\n",
    "\n",
    "#convert into int        \n",
    "def conv_int(x):\n",
    "    for i in x:\n",
    "        weather1[x] = weather1[x].astype('int64')\n",
    "        \n",
    "#convert into categorical\n",
    "def conv_cat(x):\n",
    "    for i in x:\n",
    "        weather1[x] = weather1[x].astype('object')"
   ]
  },
  {
   "cell_type": "code",
   "execution_count": 40,
   "metadata": {},
   "outputs": [],
   "source": [
    "#replace missing and trace value into -1\n",
    "weather1 = weather1.replace('M', -999)\n",
    "weather1 = weather1.replace('T', -999)\n",
    "weather1 = weather1.replace(' T', -999)\n",
    "weather1 = weather1.replace('  T', -999)\n",
    "weather1 = weather1.replace('-', np.nan)\n",
    "weather1['CodeSum'] =weather1['CodeSum'].replace(' ', np.nan)"
   ]
  },
  {
   "cell_type": "code",
   "execution_count": 41,
   "metadata": {},
   "outputs": [],
   "source": [
    "float_list =['SnowFall','PrecipTotal','StnPressure','SeaLevel','ResultSpeed','AvgSpeed','Water1']\n",
    "int_list =['Tmax','Tmin','Tavg','Depart','DewPoint','WetBulb','Heat','Cool','Depth','ResultDir']\n",
    "cat_list =['Sunrise','Sunset','CodeSum']"
   ]
  },
  {
   "cell_type": "code",
   "execution_count": 42,
   "metadata": {},
   "outputs": [],
   "source": [
    "conv_float(float_list)\n",
    "conv_int(int_list)\n",
    "conv_cat(cat_list)"
   ]
  },
  {
   "cell_type": "code",
   "execution_count": 43,
   "metadata": {},
   "outputs": [
    {
     "data": {
      "text/plain": [
       "Station          int64\n",
       "Date            object\n",
       "Tmax             int64\n",
       "Tmin             int64\n",
       "Tavg             int64\n",
       "Depart           int64\n",
       "DewPoint         int64\n",
       "WetBulb          int64\n",
       "Heat             int64\n",
       "Cool             int64\n",
       "Sunrise         object\n",
       "Sunset          object\n",
       "CodeSum         object\n",
       "Depth            int64\n",
       "Water1         float64\n",
       "SnowFall       float64\n",
       "PrecipTotal    float64\n",
       "StnPressure    float64\n",
       "SeaLevel       float64\n",
       "ResultSpeed    float64\n",
       "ResultDir        int64\n",
       "AvgSpeed       float64\n",
       "dtype: object"
      ]
     },
     "execution_count": 43,
     "metadata": {},
     "output_type": "execute_result"
    }
   ],
   "source": [
    "weather1.dtypes"
   ]
  },
  {
   "cell_type": "code",
   "execution_count": 44,
   "metadata": {},
   "outputs": [
    {
     "data": {
      "text/html": [
       "<div>\n",
       "<style scoped>\n",
       "    .dataframe tbody tr th:only-of-type {\n",
       "        vertical-align: middle;\n",
       "    }\n",
       "\n",
       "    .dataframe tbody tr th {\n",
       "        vertical-align: top;\n",
       "    }\n",
       "\n",
       "    .dataframe thead th {\n",
       "        text-align: right;\n",
       "    }\n",
       "</style>\n",
       "<table border=\"1\" class=\"dataframe\">\n",
       "  <thead>\n",
       "    <tr style=\"text-align: right;\">\n",
       "      <th></th>\n",
       "      <th>Station</th>\n",
       "      <th>Date</th>\n",
       "      <th>Tmax</th>\n",
       "      <th>Tmin</th>\n",
       "      <th>Tavg</th>\n",
       "      <th>Depart</th>\n",
       "      <th>DewPoint</th>\n",
       "      <th>WetBulb</th>\n",
       "      <th>Heat</th>\n",
       "      <th>Cool</th>\n",
       "      <th>...</th>\n",
       "      <th>CodeSum</th>\n",
       "      <th>Depth</th>\n",
       "      <th>Water1</th>\n",
       "      <th>SnowFall</th>\n",
       "      <th>PrecipTotal</th>\n",
       "      <th>StnPressure</th>\n",
       "      <th>SeaLevel</th>\n",
       "      <th>ResultSpeed</th>\n",
       "      <th>ResultDir</th>\n",
       "      <th>AvgSpeed</th>\n",
       "    </tr>\n",
       "  </thead>\n",
       "  <tbody>\n",
       "    <tr>\n",
       "      <th>0</th>\n",
       "      <td>1</td>\n",
       "      <td>2007-05-01</td>\n",
       "      <td>83</td>\n",
       "      <td>50</td>\n",
       "      <td>67</td>\n",
       "      <td>14</td>\n",
       "      <td>51</td>\n",
       "      <td>56</td>\n",
       "      <td>0</td>\n",
       "      <td>2</td>\n",
       "      <td>...</td>\n",
       "      <td>NaN</td>\n",
       "      <td>0</td>\n",
       "      <td>-999.0</td>\n",
       "      <td>0.0</td>\n",
       "      <td>0.0</td>\n",
       "      <td>29.10</td>\n",
       "      <td>29.82</td>\n",
       "      <td>1.7</td>\n",
       "      <td>27</td>\n",
       "      <td>9.2</td>\n",
       "    </tr>\n",
       "    <tr>\n",
       "      <th>1</th>\n",
       "      <td>2</td>\n",
       "      <td>2007-05-01</td>\n",
       "      <td>84</td>\n",
       "      <td>52</td>\n",
       "      <td>68</td>\n",
       "      <td>-999</td>\n",
       "      <td>51</td>\n",
       "      <td>57</td>\n",
       "      <td>0</td>\n",
       "      <td>3</td>\n",
       "      <td>...</td>\n",
       "      <td>NaN</td>\n",
       "      <td>-999</td>\n",
       "      <td>-999.0</td>\n",
       "      <td>-999.0</td>\n",
       "      <td>0.0</td>\n",
       "      <td>29.18</td>\n",
       "      <td>29.82</td>\n",
       "      <td>2.7</td>\n",
       "      <td>25</td>\n",
       "      <td>9.6</td>\n",
       "    </tr>\n",
       "    <tr>\n",
       "      <th>2</th>\n",
       "      <td>1</td>\n",
       "      <td>2007-05-02</td>\n",
       "      <td>59</td>\n",
       "      <td>42</td>\n",
       "      <td>51</td>\n",
       "      <td>-3</td>\n",
       "      <td>42</td>\n",
       "      <td>47</td>\n",
       "      <td>14</td>\n",
       "      <td>0</td>\n",
       "      <td>...</td>\n",
       "      <td>BR</td>\n",
       "      <td>0</td>\n",
       "      <td>-999.0</td>\n",
       "      <td>0.0</td>\n",
       "      <td>0.0</td>\n",
       "      <td>29.38</td>\n",
       "      <td>30.09</td>\n",
       "      <td>13.0</td>\n",
       "      <td>4</td>\n",
       "      <td>13.4</td>\n",
       "    </tr>\n",
       "    <tr>\n",
       "      <th>3</th>\n",
       "      <td>2</td>\n",
       "      <td>2007-05-02</td>\n",
       "      <td>60</td>\n",
       "      <td>43</td>\n",
       "      <td>52</td>\n",
       "      <td>-999</td>\n",
       "      <td>42</td>\n",
       "      <td>47</td>\n",
       "      <td>13</td>\n",
       "      <td>0</td>\n",
       "      <td>...</td>\n",
       "      <td>BR HZ</td>\n",
       "      <td>-999</td>\n",
       "      <td>-999.0</td>\n",
       "      <td>-999.0</td>\n",
       "      <td>0.0</td>\n",
       "      <td>29.44</td>\n",
       "      <td>30.08</td>\n",
       "      <td>13.3</td>\n",
       "      <td>2</td>\n",
       "      <td>13.4</td>\n",
       "    </tr>\n",
       "    <tr>\n",
       "      <th>4</th>\n",
       "      <td>1</td>\n",
       "      <td>2007-05-03</td>\n",
       "      <td>66</td>\n",
       "      <td>46</td>\n",
       "      <td>56</td>\n",
       "      <td>2</td>\n",
       "      <td>40</td>\n",
       "      <td>48</td>\n",
       "      <td>9</td>\n",
       "      <td>0</td>\n",
       "      <td>...</td>\n",
       "      <td>NaN</td>\n",
       "      <td>0</td>\n",
       "      <td>-999.0</td>\n",
       "      <td>0.0</td>\n",
       "      <td>0.0</td>\n",
       "      <td>29.39</td>\n",
       "      <td>30.12</td>\n",
       "      <td>11.7</td>\n",
       "      <td>7</td>\n",
       "      <td>11.9</td>\n",
       "    </tr>\n",
       "  </tbody>\n",
       "</table>\n",
       "<p>5 rows × 22 columns</p>\n",
       "</div>"
      ],
      "text/plain": [
       "   Station        Date  Tmax  Tmin  Tavg  Depart  DewPoint  WetBulb  Heat  \\\n",
       "0        1  2007-05-01    83    50    67      14        51       56     0   \n",
       "1        2  2007-05-01    84    52    68    -999        51       57     0   \n",
       "2        1  2007-05-02    59    42    51      -3        42       47    14   \n",
       "3        2  2007-05-02    60    43    52    -999        42       47    13   \n",
       "4        1  2007-05-03    66    46    56       2        40       48     9   \n",
       "\n",
       "   Cool    ...    CodeSum Depth Water1  SnowFall  PrecipTotal  StnPressure  \\\n",
       "0     2    ...        NaN     0 -999.0       0.0          0.0        29.10   \n",
       "1     3    ...        NaN  -999 -999.0    -999.0          0.0        29.18   \n",
       "2     0    ...         BR     0 -999.0       0.0          0.0        29.38   \n",
       "3     0    ...      BR HZ  -999 -999.0    -999.0          0.0        29.44   \n",
       "4     0    ...        NaN     0 -999.0       0.0          0.0        29.39   \n",
       "\n",
       "   SeaLevel  ResultSpeed  ResultDir  AvgSpeed  \n",
       "0     29.82          1.7         27       9.2  \n",
       "1     29.82          2.7         25       9.6  \n",
       "2     30.09         13.0          4      13.4  \n",
       "3     30.08         13.3          2      13.4  \n",
       "4     30.12         11.7          7      11.9  \n",
       "\n",
       "[5 rows x 22 columns]"
      ]
     },
     "execution_count": 44,
     "metadata": {},
     "output_type": "execute_result"
    }
   ],
   "source": [
    "weather1.head()"
   ]
  },
  {
   "cell_type": "code",
   "execution_count": 439,
   "metadata": {},
   "outputs": [],
   "source": [
    "weather_s1 = weather1[weather1['Station']==1]\n",
    "weather_s2 = weather1[weather1['Station']==2]\n",
    "weather_s1 = weather_s1.drop('Station', axis=1)\n",
    "weather_s2 = weather_s2.drop('Station', axis=1)\n",
    "weather2 = weather_s1.merge(weather_s2, on='Date')"
   ]
  },
  {
   "cell_type": "code",
   "execution_count": 443,
   "metadata": {},
   "outputs": [
    {
     "data": {
      "text/plain": [
       "Sunset_y     1.000000\n",
       "Sunrise_y    1.000000\n",
       "CodeSum_x    0.546875\n",
       "CodeSum_y    0.546196\n",
       "Sunset_x     0.000000\n",
       "Sunrise_x    0.000000\n",
       "Date         0.000000\n",
       "dtype: float64"
      ]
     },
     "execution_count": 443,
     "metadata": {},
     "output_type": "execute_result"
    }
   ],
   "source": [
    "#check missing value -weather data\n",
    "#categorical features\n",
    "miss_category_w = weather2.select_dtypes(include=['object'])\n",
    "miss_cate_rate_w = miss_category_w.isnull().sum(axis =0)/float(len(miss_category_w))\n",
    "miss_cate_rate_w.sort_values(ascending =False)"
   ]
  },
  {
   "cell_type": "code",
   "execution_count": 444,
   "metadata": {},
   "outputs": [],
   "source": [
    "#drop missing value >=50%\n",
    "weather3 =weather2.drop(miss_cate_rate_w[miss_cate_rate_w >=0.5].index, axis=1, inplace=False)"
   ]
  },
  {
   "cell_type": "code",
   "execution_count": 445,
   "metadata": {},
   "outputs": [
    {
     "data": {
      "text/html": [
       "<div>\n",
       "<style scoped>\n",
       "    .dataframe tbody tr th:only-of-type {\n",
       "        vertical-align: middle;\n",
       "    }\n",
       "\n",
       "    .dataframe tbody tr th {\n",
       "        vertical-align: top;\n",
       "    }\n",
       "\n",
       "    .dataframe thead th {\n",
       "        text-align: right;\n",
       "    }\n",
       "</style>\n",
       "<table border=\"1\" class=\"dataframe\">\n",
       "  <thead>\n",
       "    <tr style=\"text-align: right;\">\n",
       "      <th></th>\n",
       "      <th>Date</th>\n",
       "      <th>Tmax_x</th>\n",
       "      <th>Tmin_x</th>\n",
       "      <th>Tavg_x</th>\n",
       "      <th>Depart_x</th>\n",
       "      <th>DewPoint_x</th>\n",
       "      <th>WetBulb_x</th>\n",
       "      <th>Heat_x</th>\n",
       "      <th>Cool_x</th>\n",
       "      <th>Sunrise_x</th>\n",
       "      <th>...</th>\n",
       "      <th>Cool_y</th>\n",
       "      <th>Depth_y</th>\n",
       "      <th>Water1_y</th>\n",
       "      <th>SnowFall_y</th>\n",
       "      <th>PrecipTotal_y</th>\n",
       "      <th>StnPressure_y</th>\n",
       "      <th>SeaLevel_y</th>\n",
       "      <th>ResultSpeed_y</th>\n",
       "      <th>ResultDir_y</th>\n",
       "      <th>AvgSpeed_y</th>\n",
       "    </tr>\n",
       "  </thead>\n",
       "  <tbody>\n",
       "    <tr>\n",
       "      <th>0</th>\n",
       "      <td>2007-05-01</td>\n",
       "      <td>83</td>\n",
       "      <td>50</td>\n",
       "      <td>67</td>\n",
       "      <td>14</td>\n",
       "      <td>51</td>\n",
       "      <td>56</td>\n",
       "      <td>0</td>\n",
       "      <td>2</td>\n",
       "      <td>0448</td>\n",
       "      <td>...</td>\n",
       "      <td>3</td>\n",
       "      <td>-999</td>\n",
       "      <td>-999.0</td>\n",
       "      <td>-999.0</td>\n",
       "      <td>0.0</td>\n",
       "      <td>29.18</td>\n",
       "      <td>29.82</td>\n",
       "      <td>2.7</td>\n",
       "      <td>25</td>\n",
       "      <td>9.6</td>\n",
       "    </tr>\n",
       "    <tr>\n",
       "      <th>1</th>\n",
       "      <td>2007-05-02</td>\n",
       "      <td>59</td>\n",
       "      <td>42</td>\n",
       "      <td>51</td>\n",
       "      <td>-3</td>\n",
       "      <td>42</td>\n",
       "      <td>47</td>\n",
       "      <td>14</td>\n",
       "      <td>0</td>\n",
       "      <td>0447</td>\n",
       "      <td>...</td>\n",
       "      <td>0</td>\n",
       "      <td>-999</td>\n",
       "      <td>-999.0</td>\n",
       "      <td>-999.0</td>\n",
       "      <td>0.0</td>\n",
       "      <td>29.44</td>\n",
       "      <td>30.08</td>\n",
       "      <td>13.3</td>\n",
       "      <td>2</td>\n",
       "      <td>13.4</td>\n",
       "    </tr>\n",
       "    <tr>\n",
       "      <th>2</th>\n",
       "      <td>2007-05-03</td>\n",
       "      <td>66</td>\n",
       "      <td>46</td>\n",
       "      <td>56</td>\n",
       "      <td>2</td>\n",
       "      <td>40</td>\n",
       "      <td>48</td>\n",
       "      <td>9</td>\n",
       "      <td>0</td>\n",
       "      <td>0446</td>\n",
       "      <td>...</td>\n",
       "      <td>0</td>\n",
       "      <td>-999</td>\n",
       "      <td>-999.0</td>\n",
       "      <td>-999.0</td>\n",
       "      <td>0.0</td>\n",
       "      <td>29.46</td>\n",
       "      <td>30.12</td>\n",
       "      <td>12.9</td>\n",
       "      <td>6</td>\n",
       "      <td>13.2</td>\n",
       "    </tr>\n",
       "    <tr>\n",
       "      <th>3</th>\n",
       "      <td>2007-05-04</td>\n",
       "      <td>66</td>\n",
       "      <td>49</td>\n",
       "      <td>58</td>\n",
       "      <td>4</td>\n",
       "      <td>41</td>\n",
       "      <td>50</td>\n",
       "      <td>7</td>\n",
       "      <td>0</td>\n",
       "      <td>0444</td>\n",
       "      <td>...</td>\n",
       "      <td>-999</td>\n",
       "      <td>-999</td>\n",
       "      <td>-999.0</td>\n",
       "      <td>-999.0</td>\n",
       "      <td>0.0</td>\n",
       "      <td>29.36</td>\n",
       "      <td>30.04</td>\n",
       "      <td>10.1</td>\n",
       "      <td>7</td>\n",
       "      <td>10.4</td>\n",
       "    </tr>\n",
       "    <tr>\n",
       "      <th>4</th>\n",
       "      <td>2007-05-05</td>\n",
       "      <td>66</td>\n",
       "      <td>53</td>\n",
       "      <td>60</td>\n",
       "      <td>5</td>\n",
       "      <td>38</td>\n",
       "      <td>49</td>\n",
       "      <td>5</td>\n",
       "      <td>0</td>\n",
       "      <td>0443</td>\n",
       "      <td>...</td>\n",
       "      <td>0</td>\n",
       "      <td>-999</td>\n",
       "      <td>-999.0</td>\n",
       "      <td>-999.0</td>\n",
       "      <td>-999.0</td>\n",
       "      <td>29.46</td>\n",
       "      <td>30.09</td>\n",
       "      <td>11.2</td>\n",
       "      <td>7</td>\n",
       "      <td>11.5</td>\n",
       "    </tr>\n",
       "  </tbody>\n",
       "</table>\n",
       "<p>5 rows × 37 columns</p>\n",
       "</div>"
      ],
      "text/plain": [
       "         Date  Tmax_x  Tmin_x  Tavg_x  Depart_x  DewPoint_x  WetBulb_x  \\\n",
       "0  2007-05-01      83      50      67        14          51         56   \n",
       "1  2007-05-02      59      42      51        -3          42         47   \n",
       "2  2007-05-03      66      46      56         2          40         48   \n",
       "3  2007-05-04      66      49      58         4          41         50   \n",
       "4  2007-05-05      66      53      60         5          38         49   \n",
       "\n",
       "   Heat_x  Cool_x Sunrise_x     ...     Cool_y  Depth_y  Water1_y  SnowFall_y  \\\n",
       "0       0       2      0448     ...          3     -999    -999.0      -999.0   \n",
       "1      14       0      0447     ...          0     -999    -999.0      -999.0   \n",
       "2       9       0      0446     ...          0     -999    -999.0      -999.0   \n",
       "3       7       0      0444     ...       -999     -999    -999.0      -999.0   \n",
       "4       5       0      0443     ...          0     -999    -999.0      -999.0   \n",
       "\n",
       "   PrecipTotal_y  StnPressure_y  SeaLevel_y  ResultSpeed_y  ResultDir_y  \\\n",
       "0            0.0          29.18       29.82            2.7           25   \n",
       "1            0.0          29.44       30.08           13.3            2   \n",
       "2            0.0          29.46       30.12           12.9            6   \n",
       "3            0.0          29.36       30.04           10.1            7   \n",
       "4         -999.0          29.46       30.09           11.2            7   \n",
       "\n",
       "   AvgSpeed_y  \n",
       "0         9.6  \n",
       "1        13.4  \n",
       "2        13.2  \n",
       "3        10.4  \n",
       "4        11.5  \n",
       "\n",
       "[5 rows x 37 columns]"
      ]
     },
     "execution_count": 445,
     "metadata": {},
     "output_type": "execute_result"
    }
   ],
   "source": [
    "weather3.head()"
   ]
  },
  {
   "cell_type": "code",
   "execution_count": 446,
   "metadata": {},
   "outputs": [],
   "source": [
    "weather4 = weather3.replace(-999, np.nan)"
   ]
  },
  {
   "cell_type": "code",
   "execution_count": 447,
   "metadata": {},
   "outputs": [
    {
     "data": {
      "text/plain": [
       "Water1_x         1.000000\n",
       "SnowFall_y       1.000000\n",
       "Water1_y         1.000000\n",
       "Depth_y          1.000000\n",
       "Depart_y         1.000000\n",
       "PrecipTotal_x    0.110734\n",
       "PrecipTotal_y    0.106658\n",
       "SnowFall_x       0.008152\n",
       "Tavg_y           0.007473\n",
       "Cool_y           0.007473\n",
       "Heat_y           0.007473\n",
       "SeaLevel_x       0.003397\n",
       "SeaLevel_y       0.002717\n",
       "WetBulb_x        0.002038\n",
       "AvgSpeed_y       0.002038\n",
       "StnPressure_x    0.001359\n",
       "StnPressure_y    0.001359\n",
       "WetBulb_y        0.000679\n",
       "Depart_x         0.000000\n",
       "DewPoint_x       0.000000\n",
       "Depth_x          0.000000\n",
       "Heat_x           0.000000\n",
       "Cool_x           0.000000\n",
       "Tmin_x           0.000000\n",
       "Tavg_x           0.000000\n",
       "AvgSpeed_x       0.000000\n",
       "ResultSpeed_x    0.000000\n",
       "ResultDir_x      0.000000\n",
       "ResultDir_y      0.000000\n",
       "Tmax_y           0.000000\n",
       "Tmin_y           0.000000\n",
       "DewPoint_y       0.000000\n",
       "ResultSpeed_y    0.000000\n",
       "Tmax_x           0.000000\n",
       "dtype: float64"
      ]
     },
     "execution_count": 447,
     "metadata": {},
     "output_type": "execute_result"
    }
   ],
   "source": [
    "# check numerical features - weather data\n",
    "miss_numerical_w = weather4.select_dtypes(exclude=['object'])\n",
    "miss_num_rate_w = miss_numerical_w.isnull().sum(axis =0)/float(len(miss_numerical_w))\n",
    "miss_num_rate_w.sort_values(ascending=False)"
   ]
  },
  {
   "cell_type": "code",
   "execution_count": 768,
   "metadata": {},
   "outputs": [],
   "source": [
    "#drop missing value >=50%\n",
    "weather5 =weather4.drop(miss_num_rate_w[miss_num_rate_w >=0.5].index, axis=1, inplace=False)"
   ]
  },
  {
   "cell_type": "code",
   "execution_count": 769,
   "metadata": {},
   "outputs": [
    {
     "data": {
      "text/html": [
       "<div>\n",
       "<style scoped>\n",
       "    .dataframe tbody tr th:only-of-type {\n",
       "        vertical-align: middle;\n",
       "    }\n",
       "\n",
       "    .dataframe tbody tr th {\n",
       "        vertical-align: top;\n",
       "    }\n",
       "\n",
       "    .dataframe thead th {\n",
       "        text-align: right;\n",
       "    }\n",
       "</style>\n",
       "<table border=\"1\" class=\"dataframe\">\n",
       "  <thead>\n",
       "    <tr style=\"text-align: right;\">\n",
       "      <th></th>\n",
       "      <th>Date</th>\n",
       "      <th>Tmax_x</th>\n",
       "      <th>Tmin_x</th>\n",
       "      <th>Tavg_x</th>\n",
       "      <th>Depart_x</th>\n",
       "      <th>DewPoint_x</th>\n",
       "      <th>WetBulb_x</th>\n",
       "      <th>Heat_x</th>\n",
       "      <th>Cool_x</th>\n",
       "      <th>Sunrise_x</th>\n",
       "      <th>...</th>\n",
       "      <th>DewPoint_y</th>\n",
       "      <th>WetBulb_y</th>\n",
       "      <th>Heat_y</th>\n",
       "      <th>Cool_y</th>\n",
       "      <th>PrecipTotal_y</th>\n",
       "      <th>StnPressure_y</th>\n",
       "      <th>SeaLevel_y</th>\n",
       "      <th>ResultSpeed_y</th>\n",
       "      <th>ResultDir_y</th>\n",
       "      <th>AvgSpeed_y</th>\n",
       "    </tr>\n",
       "  </thead>\n",
       "  <tbody>\n",
       "    <tr>\n",
       "      <th>0</th>\n",
       "      <td>2007-05-01</td>\n",
       "      <td>83</td>\n",
       "      <td>50</td>\n",
       "      <td>67</td>\n",
       "      <td>14</td>\n",
       "      <td>51</td>\n",
       "      <td>56.0</td>\n",
       "      <td>0</td>\n",
       "      <td>2</td>\n",
       "      <td>0448</td>\n",
       "      <td>...</td>\n",
       "      <td>51</td>\n",
       "      <td>57.0</td>\n",
       "      <td>0.0</td>\n",
       "      <td>3.0</td>\n",
       "      <td>0.0</td>\n",
       "      <td>29.18</td>\n",
       "      <td>29.82</td>\n",
       "      <td>2.7</td>\n",
       "      <td>25</td>\n",
       "      <td>9.6</td>\n",
       "    </tr>\n",
       "    <tr>\n",
       "      <th>1</th>\n",
       "      <td>2007-05-02</td>\n",
       "      <td>59</td>\n",
       "      <td>42</td>\n",
       "      <td>51</td>\n",
       "      <td>-3</td>\n",
       "      <td>42</td>\n",
       "      <td>47.0</td>\n",
       "      <td>14</td>\n",
       "      <td>0</td>\n",
       "      <td>0447</td>\n",
       "      <td>...</td>\n",
       "      <td>42</td>\n",
       "      <td>47.0</td>\n",
       "      <td>13.0</td>\n",
       "      <td>0.0</td>\n",
       "      <td>0.0</td>\n",
       "      <td>29.44</td>\n",
       "      <td>30.08</td>\n",
       "      <td>13.3</td>\n",
       "      <td>2</td>\n",
       "      <td>13.4</td>\n",
       "    </tr>\n",
       "    <tr>\n",
       "      <th>2</th>\n",
       "      <td>2007-05-03</td>\n",
       "      <td>66</td>\n",
       "      <td>46</td>\n",
       "      <td>56</td>\n",
       "      <td>2</td>\n",
       "      <td>40</td>\n",
       "      <td>48.0</td>\n",
       "      <td>9</td>\n",
       "      <td>0</td>\n",
       "      <td>0446</td>\n",
       "      <td>...</td>\n",
       "      <td>40</td>\n",
       "      <td>50.0</td>\n",
       "      <td>7.0</td>\n",
       "      <td>0.0</td>\n",
       "      <td>0.0</td>\n",
       "      <td>29.46</td>\n",
       "      <td>30.12</td>\n",
       "      <td>12.9</td>\n",
       "      <td>6</td>\n",
       "      <td>13.2</td>\n",
       "    </tr>\n",
       "    <tr>\n",
       "      <th>3</th>\n",
       "      <td>2007-05-04</td>\n",
       "      <td>66</td>\n",
       "      <td>49</td>\n",
       "      <td>58</td>\n",
       "      <td>4</td>\n",
       "      <td>41</td>\n",
       "      <td>50.0</td>\n",
       "      <td>7</td>\n",
       "      <td>0</td>\n",
       "      <td>0444</td>\n",
       "      <td>...</td>\n",
       "      <td>42</td>\n",
       "      <td>50.0</td>\n",
       "      <td>NaN</td>\n",
       "      <td>NaN</td>\n",
       "      <td>0.0</td>\n",
       "      <td>29.36</td>\n",
       "      <td>30.04</td>\n",
       "      <td>10.1</td>\n",
       "      <td>7</td>\n",
       "      <td>10.4</td>\n",
       "    </tr>\n",
       "    <tr>\n",
       "      <th>4</th>\n",
       "      <td>2007-05-05</td>\n",
       "      <td>66</td>\n",
       "      <td>53</td>\n",
       "      <td>60</td>\n",
       "      <td>5</td>\n",
       "      <td>38</td>\n",
       "      <td>49.0</td>\n",
       "      <td>5</td>\n",
       "      <td>0</td>\n",
       "      <td>0443</td>\n",
       "      <td>...</td>\n",
       "      <td>39</td>\n",
       "      <td>50.0</td>\n",
       "      <td>5.0</td>\n",
       "      <td>0.0</td>\n",
       "      <td>NaN</td>\n",
       "      <td>29.46</td>\n",
       "      <td>30.09</td>\n",
       "      <td>11.2</td>\n",
       "      <td>7</td>\n",
       "      <td>11.5</td>\n",
       "    </tr>\n",
       "  </tbody>\n",
       "</table>\n",
       "<p>5 rows × 32 columns</p>\n",
       "</div>"
      ],
      "text/plain": [
       "         Date  Tmax_x  Tmin_x  Tavg_x  Depart_x  DewPoint_x  WetBulb_x  \\\n",
       "0  2007-05-01      83      50      67        14          51       56.0   \n",
       "1  2007-05-02      59      42      51        -3          42       47.0   \n",
       "2  2007-05-03      66      46      56         2          40       48.0   \n",
       "3  2007-05-04      66      49      58         4          41       50.0   \n",
       "4  2007-05-05      66      53      60         5          38       49.0   \n",
       "\n",
       "   Heat_x  Cool_x Sunrise_x     ...     DewPoint_y  WetBulb_y  Heat_y  Cool_y  \\\n",
       "0       0       2      0448     ...             51       57.0     0.0     3.0   \n",
       "1      14       0      0447     ...             42       47.0    13.0     0.0   \n",
       "2       9       0      0446     ...             40       50.0     7.0     0.0   \n",
       "3       7       0      0444     ...             42       50.0     NaN     NaN   \n",
       "4       5       0      0443     ...             39       50.0     5.0     0.0   \n",
       "\n",
       "   PrecipTotal_y  StnPressure_y  SeaLevel_y  ResultSpeed_y  ResultDir_y  \\\n",
       "0            0.0          29.18       29.82            2.7           25   \n",
       "1            0.0          29.44       30.08           13.3            2   \n",
       "2            0.0          29.46       30.12           12.9            6   \n",
       "3            0.0          29.36       30.04           10.1            7   \n",
       "4            NaN          29.46       30.09           11.2            7   \n",
       "\n",
       "   AvgSpeed_y  \n",
       "0         9.6  \n",
       "1        13.4  \n",
       "2        13.2  \n",
       "3        10.4  \n",
       "4        11.5  \n",
       "\n",
       "[5 rows x 32 columns]"
      ]
     },
     "execution_count": 769,
     "metadata": {},
     "output_type": "execute_result"
    }
   ],
   "source": [
    "weather5.head()"
   ]
  },
  {
   "cell_type": "code",
   "execution_count": 770,
   "metadata": {},
   "outputs": [],
   "source": [
    "def fillin_mean(x):\n",
    "    for i in x:\n",
    "        weather5[x] = weather5[x].fillna((weather5[x].mean()))\n",
    "    "
   ]
  },
  {
   "cell_type": "code",
   "execution_count": 771,
   "metadata": {},
   "outputs": [],
   "source": [
    "fillin_list =['PrecipTotal_x','PrecipTotal_y','SnowFall_x','Tavg_y','Cool_y',\n",
    "             'Heat_y','SeaLevel_x','SeaLevel_y','WetBulb_x','AvgSpeed_y',\n",
    "              'StnPressure_x','StnPressure_y','WetBulb_y']"
   ]
  },
  {
   "cell_type": "code",
   "execution_count": 772,
   "metadata": {},
   "outputs": [],
   "source": [
    "fillin_mean(fillin_list)"
   ]
  },
  {
   "cell_type": "code",
   "execution_count": 773,
   "metadata": {
    "scrolled": true
   },
   "outputs": [
    {
     "data": {
      "text/html": [
       "<div>\n",
       "<style scoped>\n",
       "    .dataframe tbody tr th:only-of-type {\n",
       "        vertical-align: middle;\n",
       "    }\n",
       "\n",
       "    .dataframe tbody tr th {\n",
       "        vertical-align: top;\n",
       "    }\n",
       "\n",
       "    .dataframe thead th {\n",
       "        text-align: right;\n",
       "    }\n",
       "</style>\n",
       "<table border=\"1\" class=\"dataframe\">\n",
       "  <thead>\n",
       "    <tr style=\"text-align: right;\">\n",
       "      <th></th>\n",
       "      <th>Date</th>\n",
       "      <th>Tmax_x</th>\n",
       "      <th>Tmin_x</th>\n",
       "      <th>Tavg_x</th>\n",
       "      <th>Depart_x</th>\n",
       "      <th>DewPoint_x</th>\n",
       "      <th>WetBulb_x</th>\n",
       "      <th>Heat_x</th>\n",
       "      <th>Cool_x</th>\n",
       "      <th>Sunrise_x</th>\n",
       "      <th>...</th>\n",
       "      <th>DewPoint_y</th>\n",
       "      <th>WetBulb_y</th>\n",
       "      <th>Heat_y</th>\n",
       "      <th>Cool_y</th>\n",
       "      <th>PrecipTotal_y</th>\n",
       "      <th>StnPressure_y</th>\n",
       "      <th>SeaLevel_y</th>\n",
       "      <th>ResultSpeed_y</th>\n",
       "      <th>ResultDir_y</th>\n",
       "      <th>AvgSpeed_y</th>\n",
       "    </tr>\n",
       "  </thead>\n",
       "  <tbody>\n",
       "    <tr>\n",
       "      <th>0</th>\n",
       "      <td>2007-05-01</td>\n",
       "      <td>83</td>\n",
       "      <td>50</td>\n",
       "      <td>67</td>\n",
       "      <td>14</td>\n",
       "      <td>51</td>\n",
       "      <td>56.0</td>\n",
       "      <td>0</td>\n",
       "      <td>2</td>\n",
       "      <td>0448</td>\n",
       "      <td>...</td>\n",
       "      <td>51</td>\n",
       "      <td>57.0</td>\n",
       "      <td>0.000000</td>\n",
       "      <td>3.000000</td>\n",
       "      <td>0.000000</td>\n",
       "      <td>29.18</td>\n",
       "      <td>29.82</td>\n",
       "      <td>2.7</td>\n",
       "      <td>25</td>\n",
       "      <td>9.6</td>\n",
       "    </tr>\n",
       "    <tr>\n",
       "      <th>1</th>\n",
       "      <td>2007-05-02</td>\n",
       "      <td>59</td>\n",
       "      <td>42</td>\n",
       "      <td>51</td>\n",
       "      <td>-3</td>\n",
       "      <td>42</td>\n",
       "      <td>47.0</td>\n",
       "      <td>14</td>\n",
       "      <td>0</td>\n",
       "      <td>0447</td>\n",
       "      <td>...</td>\n",
       "      <td>42</td>\n",
       "      <td>47.0</td>\n",
       "      <td>13.000000</td>\n",
       "      <td>0.000000</td>\n",
       "      <td>0.000000</td>\n",
       "      <td>29.44</td>\n",
       "      <td>30.08</td>\n",
       "      <td>13.3</td>\n",
       "      <td>2</td>\n",
       "      <td>13.4</td>\n",
       "    </tr>\n",
       "    <tr>\n",
       "      <th>2</th>\n",
       "      <td>2007-05-03</td>\n",
       "      <td>66</td>\n",
       "      <td>46</td>\n",
       "      <td>56</td>\n",
       "      <td>2</td>\n",
       "      <td>40</td>\n",
       "      <td>48.0</td>\n",
       "      <td>9</td>\n",
       "      <td>0</td>\n",
       "      <td>0446</td>\n",
       "      <td>...</td>\n",
       "      <td>40</td>\n",
       "      <td>50.0</td>\n",
       "      <td>7.000000</td>\n",
       "      <td>0.000000</td>\n",
       "      <td>0.000000</td>\n",
       "      <td>29.46</td>\n",
       "      <td>30.12</td>\n",
       "      <td>12.9</td>\n",
       "      <td>6</td>\n",
       "      <td>13.2</td>\n",
       "    </tr>\n",
       "    <tr>\n",
       "      <th>3</th>\n",
       "      <td>2007-05-04</td>\n",
       "      <td>66</td>\n",
       "      <td>49</td>\n",
       "      <td>58</td>\n",
       "      <td>4</td>\n",
       "      <td>41</td>\n",
       "      <td>50.0</td>\n",
       "      <td>7</td>\n",
       "      <td>0</td>\n",
       "      <td>0444</td>\n",
       "      <td>...</td>\n",
       "      <td>42</td>\n",
       "      <td>50.0</td>\n",
       "      <td>3.181383</td>\n",
       "      <td>6.059548</td>\n",
       "      <td>0.000000</td>\n",
       "      <td>29.36</td>\n",
       "      <td>30.04</td>\n",
       "      <td>10.1</td>\n",
       "      <td>7</td>\n",
       "      <td>10.4</td>\n",
       "    </tr>\n",
       "    <tr>\n",
       "      <th>4</th>\n",
       "      <td>2007-05-05</td>\n",
       "      <td>66</td>\n",
       "      <td>53</td>\n",
       "      <td>60</td>\n",
       "      <td>5</td>\n",
       "      <td>38</td>\n",
       "      <td>49.0</td>\n",
       "      <td>5</td>\n",
       "      <td>0</td>\n",
       "      <td>0443</td>\n",
       "      <td>...</td>\n",
       "      <td>39</td>\n",
       "      <td>50.0</td>\n",
       "      <td>5.000000</td>\n",
       "      <td>0.000000</td>\n",
       "      <td>0.143217</td>\n",
       "      <td>29.46</td>\n",
       "      <td>30.09</td>\n",
       "      <td>11.2</td>\n",
       "      <td>7</td>\n",
       "      <td>11.5</td>\n",
       "    </tr>\n",
       "  </tbody>\n",
       "</table>\n",
       "<p>5 rows × 32 columns</p>\n",
       "</div>"
      ],
      "text/plain": [
       "         Date  Tmax_x  Tmin_x  Tavg_x  Depart_x  DewPoint_x  WetBulb_x  \\\n",
       "0  2007-05-01      83      50      67        14          51       56.0   \n",
       "1  2007-05-02      59      42      51        -3          42       47.0   \n",
       "2  2007-05-03      66      46      56         2          40       48.0   \n",
       "3  2007-05-04      66      49      58         4          41       50.0   \n",
       "4  2007-05-05      66      53      60         5          38       49.0   \n",
       "\n",
       "   Heat_x  Cool_x Sunrise_x     ...     DewPoint_y  WetBulb_y     Heat_y  \\\n",
       "0       0       2      0448     ...             51       57.0   0.000000   \n",
       "1      14       0      0447     ...             42       47.0  13.000000   \n",
       "2       9       0      0446     ...             40       50.0   7.000000   \n",
       "3       7       0      0444     ...             42       50.0   3.181383   \n",
       "4       5       0      0443     ...             39       50.0   5.000000   \n",
       "\n",
       "     Cool_y  PrecipTotal_y  StnPressure_y  SeaLevel_y  ResultSpeed_y  \\\n",
       "0  3.000000       0.000000          29.18       29.82            2.7   \n",
       "1  0.000000       0.000000          29.44       30.08           13.3   \n",
       "2  0.000000       0.000000          29.46       30.12           12.9   \n",
       "3  6.059548       0.000000          29.36       30.04           10.1   \n",
       "4  0.000000       0.143217          29.46       30.09           11.2   \n",
       "\n",
       "   ResultDir_y  AvgSpeed_y  \n",
       "0           25         9.6  \n",
       "1            2        13.4  \n",
       "2            6        13.2  \n",
       "3            7        10.4  \n",
       "4            7        11.5  \n",
       "\n",
       "[5 rows x 32 columns]"
      ]
     },
     "execution_count": 773,
     "metadata": {},
     "output_type": "execute_result"
    }
   ],
   "source": [
    "weather5.head()"
   ]
  },
  {
   "cell_type": "code",
   "execution_count": 774,
   "metadata": {},
   "outputs": [
    {
     "data": {
      "text/plain": [
       "array(['Date', 'Tmax_x', 'Tmin_x', 'Tavg_x', 'Depart_x', 'DewPoint_x',\n",
       "       'WetBulb_x', 'Heat_x', 'Cool_x', 'Sunrise_x', 'Sunset_x', 'Depth_x',\n",
       "       'SnowFall_x', 'PrecipTotal_x', 'StnPressure_x', 'SeaLevel_x',\n",
       "       'ResultSpeed_x', 'ResultDir_x', 'AvgSpeed_x', 'Tmax_y', 'Tmin_y',\n",
       "       'Tavg_y', 'DewPoint_y', 'WetBulb_y', 'Heat_y', 'Cool_y',\n",
       "       'PrecipTotal_y', 'StnPressure_y', 'SeaLevel_y', 'ResultSpeed_y',\n",
       "       'ResultDir_y', 'AvgSpeed_y'], dtype=object)"
      ]
     },
     "execution_count": 774,
     "metadata": {},
     "output_type": "execute_result"
    }
   ],
   "source": [
    "weather5.columns.values"
   ]
  },
  {
   "cell_type": "markdown",
   "metadata": {},
   "source": [
    "### Try to deal with Circular Variable (e.g. Sunrise /Sunset)\n",
    "Reference: <br/>\n",
    "[Is hour of day a categorical variable?](https://stats.stackexchange.com/questions/245866/is-hour-of-day-a-categorical-variable)<br/>\n",
    "[Regression using circular variable (hour from 0~23) as predictor](https://stats.stackexchange.com/questions/336613/regression-using-circular-variable-hour-from-023-as-predictor?rq=1)"
   ]
  },
  {
   "cell_type": "code",
   "execution_count": 775,
   "metadata": {},
   "outputs": [],
   "source": [
    "weather5['Sunrise'] = weather5['Sunrise_x'].apply(lambda x: str(x)[:2]).astype(float) + weather5['Sunrise_x'].apply(lambda x: str(x)[2:]).astype(float)/60\n",
    "weather5['Sunset'] = weather5['Sunset_x'].apply(lambda x: str(x)[:2]).astype(float) + weather5['Sunset_x'].apply(lambda x: str(x)[2:]).astype(float)/60"
   ]
  },
  {
   "cell_type": "code",
   "execution_count": 776,
   "metadata": {},
   "outputs": [],
   "source": [
    "weather5['xhr_sunrise'] = np.sin(2*np.pi*weather5['Sunrise']/24).astype(float)\n",
    "weather5['yhr_sunrise'] = np.cos(2*np.pi*weather5['Sunrise']/24).astype(float)\n",
    "\n",
    "weather5['xhr_sunset'] = np.sin(2*np.pi*weather5['Sunset']/24).astype(float)\n",
    "weather5['yhr_sunset'] = np.cos(2*np.pi*weather5['Sunset']/24).astype(float)"
   ]
  },
  {
   "cell_type": "code",
   "execution_count": 777,
   "metadata": {},
   "outputs": [],
   "source": [
    "weather6 =weather5.drop(['Sunrise_x', 'Sunset_x','Sunrise','Sunset'],1)"
   ]
  },
  {
   "cell_type": "code",
   "execution_count": 778,
   "metadata": {},
   "outputs": [
    {
     "data": {
      "text/html": [
       "<div>\n",
       "<style scoped>\n",
       "    .dataframe tbody tr th:only-of-type {\n",
       "        vertical-align: middle;\n",
       "    }\n",
       "\n",
       "    .dataframe tbody tr th {\n",
       "        vertical-align: top;\n",
       "    }\n",
       "\n",
       "    .dataframe thead th {\n",
       "        text-align: right;\n",
       "    }\n",
       "</style>\n",
       "<table border=\"1\" class=\"dataframe\">\n",
       "  <thead>\n",
       "    <tr style=\"text-align: right;\">\n",
       "      <th></th>\n",
       "      <th>Date</th>\n",
       "      <th>Tmax_x</th>\n",
       "      <th>Tmin_x</th>\n",
       "      <th>Tavg_x</th>\n",
       "      <th>Depart_x</th>\n",
       "      <th>DewPoint_x</th>\n",
       "      <th>WetBulb_x</th>\n",
       "      <th>Heat_x</th>\n",
       "      <th>Cool_x</th>\n",
       "      <th>Depth_x</th>\n",
       "      <th>...</th>\n",
       "      <th>PrecipTotal_y</th>\n",
       "      <th>StnPressure_y</th>\n",
       "      <th>SeaLevel_y</th>\n",
       "      <th>ResultSpeed_y</th>\n",
       "      <th>ResultDir_y</th>\n",
       "      <th>AvgSpeed_y</th>\n",
       "      <th>xhr_sunrise</th>\n",
       "      <th>yhr_sunrise</th>\n",
       "      <th>xhr_sunset</th>\n",
       "      <th>yhr_sunset</th>\n",
       "    </tr>\n",
       "  </thead>\n",
       "  <tbody>\n",
       "    <tr>\n",
       "      <th>0</th>\n",
       "      <td>2007-05-01</td>\n",
       "      <td>83</td>\n",
       "      <td>50</td>\n",
       "      <td>67</td>\n",
       "      <td>14</td>\n",
       "      <td>51</td>\n",
       "      <td>56.0</td>\n",
       "      <td>0</td>\n",
       "      <td>2</td>\n",
       "      <td>0</td>\n",
       "      <td>...</td>\n",
       "      <td>0.000000</td>\n",
       "      <td>29.18</td>\n",
       "      <td>29.82</td>\n",
       "      <td>2.7</td>\n",
       "      <td>25</td>\n",
       "      <td>9.6</td>\n",
       "      <td>0.951057</td>\n",
       "      <td>0.309017</td>\n",
       "      <td>-0.977231</td>\n",
       "      <td>0.212178</td>\n",
       "    </tr>\n",
       "    <tr>\n",
       "      <th>1</th>\n",
       "      <td>2007-05-02</td>\n",
       "      <td>59</td>\n",
       "      <td>42</td>\n",
       "      <td>51</td>\n",
       "      <td>-3</td>\n",
       "      <td>42</td>\n",
       "      <td>47.0</td>\n",
       "      <td>14</td>\n",
       "      <td>0</td>\n",
       "      <td>0</td>\n",
       "      <td>...</td>\n",
       "      <td>0.000000</td>\n",
       "      <td>29.44</td>\n",
       "      <td>30.08</td>\n",
       "      <td>13.3</td>\n",
       "      <td>2</td>\n",
       "      <td>13.4</td>\n",
       "      <td>0.949699</td>\n",
       "      <td>0.313164</td>\n",
       "      <td>-0.976296</td>\n",
       "      <td>0.216440</td>\n",
       "    </tr>\n",
       "    <tr>\n",
       "      <th>2</th>\n",
       "      <td>2007-05-03</td>\n",
       "      <td>66</td>\n",
       "      <td>46</td>\n",
       "      <td>56</td>\n",
       "      <td>2</td>\n",
       "      <td>40</td>\n",
       "      <td>48.0</td>\n",
       "      <td>9</td>\n",
       "      <td>0</td>\n",
       "      <td>0</td>\n",
       "      <td>...</td>\n",
       "      <td>0.000000</td>\n",
       "      <td>29.46</td>\n",
       "      <td>30.12</td>\n",
       "      <td>12.9</td>\n",
       "      <td>6</td>\n",
       "      <td>13.2</td>\n",
       "      <td>0.948324</td>\n",
       "      <td>0.317305</td>\n",
       "      <td>-0.975342</td>\n",
       "      <td>0.220697</td>\n",
       "    </tr>\n",
       "    <tr>\n",
       "      <th>3</th>\n",
       "      <td>2007-05-04</td>\n",
       "      <td>66</td>\n",
       "      <td>49</td>\n",
       "      <td>58</td>\n",
       "      <td>4</td>\n",
       "      <td>41</td>\n",
       "      <td>50.0</td>\n",
       "      <td>7</td>\n",
       "      <td>0</td>\n",
       "      <td>0</td>\n",
       "      <td>...</td>\n",
       "      <td>0.000000</td>\n",
       "      <td>29.36</td>\n",
       "      <td>30.04</td>\n",
       "      <td>10.1</td>\n",
       "      <td>7</td>\n",
       "      <td>10.4</td>\n",
       "      <td>0.945519</td>\n",
       "      <td>0.325568</td>\n",
       "      <td>-0.974370</td>\n",
       "      <td>0.224951</td>\n",
       "    </tr>\n",
       "    <tr>\n",
       "      <th>4</th>\n",
       "      <td>2007-05-05</td>\n",
       "      <td>66</td>\n",
       "      <td>53</td>\n",
       "      <td>60</td>\n",
       "      <td>5</td>\n",
       "      <td>38</td>\n",
       "      <td>49.0</td>\n",
       "      <td>5</td>\n",
       "      <td>0</td>\n",
       "      <td>0</td>\n",
       "      <td>...</td>\n",
       "      <td>0.143217</td>\n",
       "      <td>29.46</td>\n",
       "      <td>30.09</td>\n",
       "      <td>11.2</td>\n",
       "      <td>7</td>\n",
       "      <td>11.5</td>\n",
       "      <td>0.944089</td>\n",
       "      <td>0.329691</td>\n",
       "      <td>-0.973379</td>\n",
       "      <td>0.229200</td>\n",
       "    </tr>\n",
       "  </tbody>\n",
       "</table>\n",
       "<p>5 rows × 34 columns</p>\n",
       "</div>"
      ],
      "text/plain": [
       "         Date  Tmax_x  Tmin_x  Tavg_x  Depart_x  DewPoint_x  WetBulb_x  \\\n",
       "0  2007-05-01      83      50      67        14          51       56.0   \n",
       "1  2007-05-02      59      42      51        -3          42       47.0   \n",
       "2  2007-05-03      66      46      56         2          40       48.0   \n",
       "3  2007-05-04      66      49      58         4          41       50.0   \n",
       "4  2007-05-05      66      53      60         5          38       49.0   \n",
       "\n",
       "   Heat_x  Cool_x  Depth_x     ...      PrecipTotal_y  StnPressure_y  \\\n",
       "0       0       2        0     ...           0.000000          29.18   \n",
       "1      14       0        0     ...           0.000000          29.44   \n",
       "2       9       0        0     ...           0.000000          29.46   \n",
       "3       7       0        0     ...           0.000000          29.36   \n",
       "4       5       0        0     ...           0.143217          29.46   \n",
       "\n",
       "   SeaLevel_y  ResultSpeed_y  ResultDir_y  AvgSpeed_y  xhr_sunrise  \\\n",
       "0       29.82            2.7           25         9.6     0.951057   \n",
       "1       30.08           13.3            2        13.4     0.949699   \n",
       "2       30.12           12.9            6        13.2     0.948324   \n",
       "3       30.04           10.1            7        10.4     0.945519   \n",
       "4       30.09           11.2            7        11.5     0.944089   \n",
       "\n",
       "   yhr_sunrise  xhr_sunset  yhr_sunset  \n",
       "0     0.309017   -0.977231    0.212178  \n",
       "1     0.313164   -0.976296    0.216440  \n",
       "2     0.317305   -0.975342    0.220697  \n",
       "3     0.325568   -0.974370    0.224951  \n",
       "4     0.329691   -0.973379    0.229200  \n",
       "\n",
       "[5 rows x 34 columns]"
      ]
     },
     "execution_count": 778,
     "metadata": {},
     "output_type": "execute_result"
    }
   ],
   "source": [
    "weather6.head()"
   ]
  },
  {
   "cell_type": "markdown",
   "metadata": {},
   "source": [
    "### New Train Data Transform\n",
    "\n",
    "#### train.csv + weather.csv"
   ]
  },
  {
   "cell_type": "code",
   "execution_count": 780,
   "metadata": {},
   "outputs": [],
   "source": [
    "#train2 + weather6 (inner join)\n",
    "train3 = train2.merge(weather6, on='Date')"
   ]
  },
  {
   "cell_type": "code",
   "execution_count": 781,
   "metadata": {},
   "outputs": [
    {
     "data": {
      "text/plain": [
       "(10506, 42)"
      ]
     },
     "execution_count": 781,
     "metadata": {},
     "output_type": "execute_result"
    }
   ],
   "source": [
    "train3.shape"
   ]
  },
  {
   "cell_type": "code",
   "execution_count": 748,
   "metadata": {},
   "outputs": [
    {
     "data": {
      "text/html": [
       "<div>\n",
       "<style scoped>\n",
       "    .dataframe tbody tr th:only-of-type {\n",
       "        vertical-align: middle;\n",
       "    }\n",
       "\n",
       "    .dataframe tbody tr th {\n",
       "        vertical-align: top;\n",
       "    }\n",
       "\n",
       "    .dataframe thead th {\n",
       "        text-align: right;\n",
       "    }\n",
       "</style>\n",
       "<table border=\"1\" class=\"dataframe\">\n",
       "  <thead>\n",
       "    <tr style=\"text-align: right;\">\n",
       "      <th></th>\n",
       "      <th>Date</th>\n",
       "      <th>Block</th>\n",
       "      <th>Trap</th>\n",
       "      <th>Latitude</th>\n",
       "      <th>Longitude</th>\n",
       "      <th>AddressAccuracy</th>\n",
       "      <th>NumMosquitos</th>\n",
       "      <th>WnvPresent</th>\n",
       "      <th>typeSpecies</th>\n",
       "      <th>Tmax_x</th>\n",
       "      <th>...</th>\n",
       "      <th>PrecipTotal_y</th>\n",
       "      <th>StnPressure_y</th>\n",
       "      <th>SeaLevel_y</th>\n",
       "      <th>ResultSpeed_y</th>\n",
       "      <th>ResultDir_y</th>\n",
       "      <th>AvgSpeed_y</th>\n",
       "      <th>xhr_sunrise</th>\n",
       "      <th>yhr_sunrise</th>\n",
       "      <th>xhr_sunset</th>\n",
       "      <th>yhr_sunset</th>\n",
       "    </tr>\n",
       "  </thead>\n",
       "  <tbody>\n",
       "    <tr>\n",
       "      <th>0</th>\n",
       "      <td>2007-05-29</td>\n",
       "      <td>41</td>\n",
       "      <td>T002</td>\n",
       "      <td>41.954690</td>\n",
       "      <td>-87.800991</td>\n",
       "      <td>9</td>\n",
       "      <td>1</td>\n",
       "      <td>0</td>\n",
       "      <td>0</td>\n",
       "      <td>88</td>\n",
       "      <td>...</td>\n",
       "      <td>0.0</td>\n",
       "      <td>29.44</td>\n",
       "      <td>30.09</td>\n",
       "      <td>5.8</td>\n",
       "      <td>16</td>\n",
       "      <td>7.4</td>\n",
       "      <td>0.908143</td>\n",
       "      <td>0.41866</td>\n",
       "      <td>-0.944089</td>\n",
       "      <td>0.329691</td>\n",
       "    </tr>\n",
       "    <tr>\n",
       "      <th>1</th>\n",
       "      <td>2007-05-29</td>\n",
       "      <td>41</td>\n",
       "      <td>T002</td>\n",
       "      <td>41.954690</td>\n",
       "      <td>-87.800991</td>\n",
       "      <td>9</td>\n",
       "      <td>1</td>\n",
       "      <td>0</td>\n",
       "      <td>1</td>\n",
       "      <td>88</td>\n",
       "      <td>...</td>\n",
       "      <td>0.0</td>\n",
       "      <td>29.44</td>\n",
       "      <td>30.09</td>\n",
       "      <td>5.8</td>\n",
       "      <td>16</td>\n",
       "      <td>7.4</td>\n",
       "      <td>0.908143</td>\n",
       "      <td>0.41866</td>\n",
       "      <td>-0.944089</td>\n",
       "      <td>0.329691</td>\n",
       "    </tr>\n",
       "    <tr>\n",
       "      <th>2</th>\n",
       "      <td>2007-05-29</td>\n",
       "      <td>62</td>\n",
       "      <td>T007</td>\n",
       "      <td>41.994991</td>\n",
       "      <td>-87.769279</td>\n",
       "      <td>9</td>\n",
       "      <td>1</td>\n",
       "      <td>0</td>\n",
       "      <td>1</td>\n",
       "      <td>88</td>\n",
       "      <td>...</td>\n",
       "      <td>0.0</td>\n",
       "      <td>29.44</td>\n",
       "      <td>30.09</td>\n",
       "      <td>5.8</td>\n",
       "      <td>16</td>\n",
       "      <td>7.4</td>\n",
       "      <td>0.908143</td>\n",
       "      <td>0.41866</td>\n",
       "      <td>-0.944089</td>\n",
       "      <td>0.329691</td>\n",
       "    </tr>\n",
       "    <tr>\n",
       "      <th>3</th>\n",
       "      <td>2007-05-29</td>\n",
       "      <td>79</td>\n",
       "      <td>T015</td>\n",
       "      <td>41.974089</td>\n",
       "      <td>-87.824812</td>\n",
       "      <td>8</td>\n",
       "      <td>1</td>\n",
       "      <td>0</td>\n",
       "      <td>0</td>\n",
       "      <td>88</td>\n",
       "      <td>...</td>\n",
       "      <td>0.0</td>\n",
       "      <td>29.44</td>\n",
       "      <td>30.09</td>\n",
       "      <td>5.8</td>\n",
       "      <td>16</td>\n",
       "      <td>7.4</td>\n",
       "      <td>0.908143</td>\n",
       "      <td>0.41866</td>\n",
       "      <td>-0.944089</td>\n",
       "      <td>0.329691</td>\n",
       "    </tr>\n",
       "    <tr>\n",
       "      <th>4</th>\n",
       "      <td>2007-05-29</td>\n",
       "      <td>79</td>\n",
       "      <td>T015</td>\n",
       "      <td>41.974089</td>\n",
       "      <td>-87.824812</td>\n",
       "      <td>8</td>\n",
       "      <td>4</td>\n",
       "      <td>0</td>\n",
       "      <td>1</td>\n",
       "      <td>88</td>\n",
       "      <td>...</td>\n",
       "      <td>0.0</td>\n",
       "      <td>29.44</td>\n",
       "      <td>30.09</td>\n",
       "      <td>5.8</td>\n",
       "      <td>16</td>\n",
       "      <td>7.4</td>\n",
       "      <td>0.908143</td>\n",
       "      <td>0.41866</td>\n",
       "      <td>-0.944089</td>\n",
       "      <td>0.329691</td>\n",
       "    </tr>\n",
       "  </tbody>\n",
       "</table>\n",
       "<p>5 rows × 42 columns</p>\n",
       "</div>"
      ],
      "text/plain": [
       "         Date Block  Trap   Latitude  Longitude  AddressAccuracy  \\\n",
       "0  2007-05-29    41  T002  41.954690 -87.800991                9   \n",
       "1  2007-05-29    41  T002  41.954690 -87.800991                9   \n",
       "2  2007-05-29    62  T007  41.994991 -87.769279                9   \n",
       "3  2007-05-29    79  T015  41.974089 -87.824812                8   \n",
       "4  2007-05-29    79  T015  41.974089 -87.824812                8   \n",
       "\n",
       "   NumMosquitos  WnvPresent typeSpecies  Tmax_x     ...      PrecipTotal_y  \\\n",
       "0             1           0           0      88     ...                0.0   \n",
       "1             1           0           1      88     ...                0.0   \n",
       "2             1           0           1      88     ...                0.0   \n",
       "3             1           0           0      88     ...                0.0   \n",
       "4             4           0           1      88     ...                0.0   \n",
       "\n",
       "   StnPressure_y  SeaLevel_y  ResultSpeed_y  ResultDir_y  AvgSpeed_y  \\\n",
       "0          29.44       30.09            5.8           16         7.4   \n",
       "1          29.44       30.09            5.8           16         7.4   \n",
       "2          29.44       30.09            5.8           16         7.4   \n",
       "3          29.44       30.09            5.8           16         7.4   \n",
       "4          29.44       30.09            5.8           16         7.4   \n",
       "\n",
       "   xhr_sunrise  yhr_sunrise  xhr_sunset  yhr_sunset  \n",
       "0     0.908143      0.41866   -0.944089    0.329691  \n",
       "1     0.908143      0.41866   -0.944089    0.329691  \n",
       "2     0.908143      0.41866   -0.944089    0.329691  \n",
       "3     0.908143      0.41866   -0.944089    0.329691  \n",
       "4     0.908143      0.41866   -0.944089    0.329691  \n",
       "\n",
       "[5 rows x 42 columns]"
      ]
     },
     "execution_count": 748,
     "metadata": {},
     "output_type": "execute_result"
    }
   ],
   "source": [
    "train3.head()"
   ]
  },
  {
   "cell_type": "code",
   "execution_count": 749,
   "metadata": {},
   "outputs": [],
   "source": [
    "train3['Month'] = train3['Date'].apply(lambda x: str(x)[5:7])\n",
    "train3['Day'] = train3['Date'].apply(lambda x: str(x)[8:])\n",
    "\n",
    "train3['Month'] = train3['Month'].astype('category')\n",
    "train3['Day'] = train3['Day'].astype('category')"
   ]
  },
  {
   "cell_type": "code",
   "execution_count": 750,
   "metadata": {},
   "outputs": [
    {
     "data": {
      "text/html": [
       "<div>\n",
       "<style scoped>\n",
       "    .dataframe tbody tr th:only-of-type {\n",
       "        vertical-align: middle;\n",
       "    }\n",
       "\n",
       "    .dataframe tbody tr th {\n",
       "        vertical-align: top;\n",
       "    }\n",
       "\n",
       "    .dataframe thead th {\n",
       "        text-align: right;\n",
       "    }\n",
       "</style>\n",
       "<table border=\"1\" class=\"dataframe\">\n",
       "  <thead>\n",
       "    <tr style=\"text-align: right;\">\n",
       "      <th></th>\n",
       "      <th>Date</th>\n",
       "      <th>Block</th>\n",
       "      <th>Trap</th>\n",
       "      <th>Latitude</th>\n",
       "      <th>Longitude</th>\n",
       "      <th>AddressAccuracy</th>\n",
       "      <th>NumMosquitos</th>\n",
       "      <th>WnvPresent</th>\n",
       "      <th>typeSpecies</th>\n",
       "      <th>Tmax_x</th>\n",
       "      <th>...</th>\n",
       "      <th>SeaLevel_y</th>\n",
       "      <th>ResultSpeed_y</th>\n",
       "      <th>ResultDir_y</th>\n",
       "      <th>AvgSpeed_y</th>\n",
       "      <th>xhr_sunrise</th>\n",
       "      <th>yhr_sunrise</th>\n",
       "      <th>xhr_sunset</th>\n",
       "      <th>yhr_sunset</th>\n",
       "      <th>Month</th>\n",
       "      <th>Day</th>\n",
       "    </tr>\n",
       "  </thead>\n",
       "  <tbody>\n",
       "    <tr>\n",
       "      <th>0</th>\n",
       "      <td>2007-05-29</td>\n",
       "      <td>41</td>\n",
       "      <td>T002</td>\n",
       "      <td>41.954690</td>\n",
       "      <td>-87.800991</td>\n",
       "      <td>9</td>\n",
       "      <td>1</td>\n",
       "      <td>0</td>\n",
       "      <td>0</td>\n",
       "      <td>88</td>\n",
       "      <td>...</td>\n",
       "      <td>30.09</td>\n",
       "      <td>5.8</td>\n",
       "      <td>16</td>\n",
       "      <td>7.4</td>\n",
       "      <td>0.908143</td>\n",
       "      <td>0.41866</td>\n",
       "      <td>-0.944089</td>\n",
       "      <td>0.329691</td>\n",
       "      <td>05</td>\n",
       "      <td>29</td>\n",
       "    </tr>\n",
       "    <tr>\n",
       "      <th>1</th>\n",
       "      <td>2007-05-29</td>\n",
       "      <td>41</td>\n",
       "      <td>T002</td>\n",
       "      <td>41.954690</td>\n",
       "      <td>-87.800991</td>\n",
       "      <td>9</td>\n",
       "      <td>1</td>\n",
       "      <td>0</td>\n",
       "      <td>1</td>\n",
       "      <td>88</td>\n",
       "      <td>...</td>\n",
       "      <td>30.09</td>\n",
       "      <td>5.8</td>\n",
       "      <td>16</td>\n",
       "      <td>7.4</td>\n",
       "      <td>0.908143</td>\n",
       "      <td>0.41866</td>\n",
       "      <td>-0.944089</td>\n",
       "      <td>0.329691</td>\n",
       "      <td>05</td>\n",
       "      <td>29</td>\n",
       "    </tr>\n",
       "    <tr>\n",
       "      <th>2</th>\n",
       "      <td>2007-05-29</td>\n",
       "      <td>62</td>\n",
       "      <td>T007</td>\n",
       "      <td>41.994991</td>\n",
       "      <td>-87.769279</td>\n",
       "      <td>9</td>\n",
       "      <td>1</td>\n",
       "      <td>0</td>\n",
       "      <td>1</td>\n",
       "      <td>88</td>\n",
       "      <td>...</td>\n",
       "      <td>30.09</td>\n",
       "      <td>5.8</td>\n",
       "      <td>16</td>\n",
       "      <td>7.4</td>\n",
       "      <td>0.908143</td>\n",
       "      <td>0.41866</td>\n",
       "      <td>-0.944089</td>\n",
       "      <td>0.329691</td>\n",
       "      <td>05</td>\n",
       "      <td>29</td>\n",
       "    </tr>\n",
       "    <tr>\n",
       "      <th>3</th>\n",
       "      <td>2007-05-29</td>\n",
       "      <td>79</td>\n",
       "      <td>T015</td>\n",
       "      <td>41.974089</td>\n",
       "      <td>-87.824812</td>\n",
       "      <td>8</td>\n",
       "      <td>1</td>\n",
       "      <td>0</td>\n",
       "      <td>0</td>\n",
       "      <td>88</td>\n",
       "      <td>...</td>\n",
       "      <td>30.09</td>\n",
       "      <td>5.8</td>\n",
       "      <td>16</td>\n",
       "      <td>7.4</td>\n",
       "      <td>0.908143</td>\n",
       "      <td>0.41866</td>\n",
       "      <td>-0.944089</td>\n",
       "      <td>0.329691</td>\n",
       "      <td>05</td>\n",
       "      <td>29</td>\n",
       "    </tr>\n",
       "    <tr>\n",
       "      <th>4</th>\n",
       "      <td>2007-05-29</td>\n",
       "      <td>79</td>\n",
       "      <td>T015</td>\n",
       "      <td>41.974089</td>\n",
       "      <td>-87.824812</td>\n",
       "      <td>8</td>\n",
       "      <td>4</td>\n",
       "      <td>0</td>\n",
       "      <td>1</td>\n",
       "      <td>88</td>\n",
       "      <td>...</td>\n",
       "      <td>30.09</td>\n",
       "      <td>5.8</td>\n",
       "      <td>16</td>\n",
       "      <td>7.4</td>\n",
       "      <td>0.908143</td>\n",
       "      <td>0.41866</td>\n",
       "      <td>-0.944089</td>\n",
       "      <td>0.329691</td>\n",
       "      <td>05</td>\n",
       "      <td>29</td>\n",
       "    </tr>\n",
       "  </tbody>\n",
       "</table>\n",
       "<p>5 rows × 44 columns</p>\n",
       "</div>"
      ],
      "text/plain": [
       "         Date Block  Trap   Latitude  Longitude  AddressAccuracy  \\\n",
       "0  2007-05-29    41  T002  41.954690 -87.800991                9   \n",
       "1  2007-05-29    41  T002  41.954690 -87.800991                9   \n",
       "2  2007-05-29    62  T007  41.994991 -87.769279                9   \n",
       "3  2007-05-29    79  T015  41.974089 -87.824812                8   \n",
       "4  2007-05-29    79  T015  41.974089 -87.824812                8   \n",
       "\n",
       "   NumMosquitos  WnvPresent typeSpecies  Tmax_x ...   SeaLevel_y  \\\n",
       "0             1           0           0      88 ...        30.09   \n",
       "1             1           0           1      88 ...        30.09   \n",
       "2             1           0           1      88 ...        30.09   \n",
       "3             1           0           0      88 ...        30.09   \n",
       "4             4           0           1      88 ...        30.09   \n",
       "\n",
       "   ResultSpeed_y  ResultDir_y  AvgSpeed_y  xhr_sunrise  yhr_sunrise  \\\n",
       "0            5.8           16         7.4     0.908143      0.41866   \n",
       "1            5.8           16         7.4     0.908143      0.41866   \n",
       "2            5.8           16         7.4     0.908143      0.41866   \n",
       "3            5.8           16         7.4     0.908143      0.41866   \n",
       "4            5.8           16         7.4     0.908143      0.41866   \n",
       "\n",
       "   xhr_sunset  yhr_sunset  Month  Day  \n",
       "0   -0.944089    0.329691     05   29  \n",
       "1   -0.944089    0.329691     05   29  \n",
       "2   -0.944089    0.329691     05   29  \n",
       "3   -0.944089    0.329691     05   29  \n",
       "4   -0.944089    0.329691     05   29  \n",
       "\n",
       "[5 rows x 44 columns]"
      ]
     },
     "execution_count": 750,
     "metadata": {},
     "output_type": "execute_result"
    }
   ],
   "source": [
    "train3.head()"
   ]
  },
  {
   "cell_type": "code",
   "execution_count": 751,
   "metadata": {},
   "outputs": [],
   "source": [
    "train4 =train3.drop(['Date','NumMosquitos'],1)"
   ]
  },
  {
   "cell_type": "code",
   "execution_count": 752,
   "metadata": {},
   "outputs": [],
   "source": [
    "#one hot encoding\n",
    "\n",
    "CAT_COLUMNS =['Block','Trap','typeSpecies','Month','Day']\n",
    "\n",
    "train4 =pd.get_dummies(train4, columns =CAT_COLUMNS)\n",
    "\n",
    "train4['WnvPresent'] = train4['WnvPresent'].astype('category')\n",
    "\n",
    "#numerical feature scaling\n",
    "scaler = MinMaxScaler()\n",
    "NUM_COLUMNS = list(train4.select_dtypes(exclude=['object','category']).columns)\n",
    "train4[NUM_COLUMNS] = scaler.fit_transform(train4[NUM_COLUMNS])"
   ]
  },
  {
   "cell_type": "code",
   "execution_count": 753,
   "metadata": {},
   "outputs": [
    {
     "data": {
      "text/html": [
       "<div>\n",
       "<style scoped>\n",
       "    .dataframe tbody tr th:only-of-type {\n",
       "        vertical-align: middle;\n",
       "    }\n",
       "\n",
       "    .dataframe tbody tr th {\n",
       "        vertical-align: top;\n",
       "    }\n",
       "\n",
       "    .dataframe thead th {\n",
       "        text-align: right;\n",
       "    }\n",
       "</style>\n",
       "<table border=\"1\" class=\"dataframe\">\n",
       "  <thead>\n",
       "    <tr style=\"text-align: right;\">\n",
       "      <th></th>\n",
       "      <th>Latitude</th>\n",
       "      <th>Longitude</th>\n",
       "      <th>AddressAccuracy</th>\n",
       "      <th>WnvPresent</th>\n",
       "      <th>Tmax_x</th>\n",
       "      <th>Tmin_x</th>\n",
       "      <th>Tavg_x</th>\n",
       "      <th>Depart_x</th>\n",
       "      <th>DewPoint_x</th>\n",
       "      <th>WetBulb_x</th>\n",
       "      <th>...</th>\n",
       "      <th>Day_22</th>\n",
       "      <th>Day_23</th>\n",
       "      <th>Day_24</th>\n",
       "      <th>Day_25</th>\n",
       "      <th>Day_26</th>\n",
       "      <th>Day_27</th>\n",
       "      <th>Day_28</th>\n",
       "      <th>Day_29</th>\n",
       "      <th>Day_30</th>\n",
       "      <th>Day_31</th>\n",
       "    </tr>\n",
       "  </thead>\n",
       "  <tbody>\n",
       "    <tr>\n",
       "      <th>0</th>\n",
       "      <td>0.831714</td>\n",
       "      <td>0.325531</td>\n",
       "      <td>1.000000</td>\n",
       "      <td>0</td>\n",
       "      <td>0.794872</td>\n",
       "      <td>0.542857</td>\n",
       "      <td>0.705882</td>\n",
       "      <td>0.733333</td>\n",
       "      <td>0.558824</td>\n",
       "      <td>0.633333</td>\n",
       "      <td>...</td>\n",
       "      <td>0.0</td>\n",
       "      <td>0.0</td>\n",
       "      <td>0.0</td>\n",
       "      <td>0.0</td>\n",
       "      <td>0.0</td>\n",
       "      <td>0.0</td>\n",
       "      <td>0.0</td>\n",
       "      <td>1.0</td>\n",
       "      <td>0.0</td>\n",
       "      <td>0.0</td>\n",
       "    </tr>\n",
       "    <tr>\n",
       "      <th>1</th>\n",
       "      <td>0.831714</td>\n",
       "      <td>0.325531</td>\n",
       "      <td>1.000000</td>\n",
       "      <td>0</td>\n",
       "      <td>0.794872</td>\n",
       "      <td>0.542857</td>\n",
       "      <td>0.705882</td>\n",
       "      <td>0.733333</td>\n",
       "      <td>0.558824</td>\n",
       "      <td>0.633333</td>\n",
       "      <td>...</td>\n",
       "      <td>0.0</td>\n",
       "      <td>0.0</td>\n",
       "      <td>0.0</td>\n",
       "      <td>0.0</td>\n",
       "      <td>0.0</td>\n",
       "      <td>0.0</td>\n",
       "      <td>0.0</td>\n",
       "      <td>1.0</td>\n",
       "      <td>0.0</td>\n",
       "      <td>0.0</td>\n",
       "    </tr>\n",
       "    <tr>\n",
       "      <th>2</th>\n",
       "      <td>0.939812</td>\n",
       "      <td>0.404938</td>\n",
       "      <td>1.000000</td>\n",
       "      <td>0</td>\n",
       "      <td>0.794872</td>\n",
       "      <td>0.542857</td>\n",
       "      <td>0.705882</td>\n",
       "      <td>0.733333</td>\n",
       "      <td>0.558824</td>\n",
       "      <td>0.633333</td>\n",
       "      <td>...</td>\n",
       "      <td>0.0</td>\n",
       "      <td>0.0</td>\n",
       "      <td>0.0</td>\n",
       "      <td>0.0</td>\n",
       "      <td>0.0</td>\n",
       "      <td>0.0</td>\n",
       "      <td>0.0</td>\n",
       "      <td>1.0</td>\n",
       "      <td>0.0</td>\n",
       "      <td>0.0</td>\n",
       "    </tr>\n",
       "    <tr>\n",
       "      <th>3</th>\n",
       "      <td>0.883748</td>\n",
       "      <td>0.265883</td>\n",
       "      <td>0.833333</td>\n",
       "      <td>0</td>\n",
       "      <td>0.794872</td>\n",
       "      <td>0.542857</td>\n",
       "      <td>0.705882</td>\n",
       "      <td>0.733333</td>\n",
       "      <td>0.558824</td>\n",
       "      <td>0.633333</td>\n",
       "      <td>...</td>\n",
       "      <td>0.0</td>\n",
       "      <td>0.0</td>\n",
       "      <td>0.0</td>\n",
       "      <td>0.0</td>\n",
       "      <td>0.0</td>\n",
       "      <td>0.0</td>\n",
       "      <td>0.0</td>\n",
       "      <td>1.0</td>\n",
       "      <td>0.0</td>\n",
       "      <td>0.0</td>\n",
       "    </tr>\n",
       "    <tr>\n",
       "      <th>4</th>\n",
       "      <td>0.883748</td>\n",
       "      <td>0.265883</td>\n",
       "      <td>0.833333</td>\n",
       "      <td>0</td>\n",
       "      <td>0.794872</td>\n",
       "      <td>0.542857</td>\n",
       "      <td>0.705882</td>\n",
       "      <td>0.733333</td>\n",
       "      <td>0.558824</td>\n",
       "      <td>0.633333</td>\n",
       "      <td>...</td>\n",
       "      <td>0.0</td>\n",
       "      <td>0.0</td>\n",
       "      <td>0.0</td>\n",
       "      <td>0.0</td>\n",
       "      <td>0.0</td>\n",
       "      <td>0.0</td>\n",
       "      <td>0.0</td>\n",
       "      <td>1.0</td>\n",
       "      <td>0.0</td>\n",
       "      <td>0.0</td>\n",
       "    </tr>\n",
       "  </tbody>\n",
       "</table>\n",
       "<p>5 rows × 280 columns</p>\n",
       "</div>"
      ],
      "text/plain": [
       "   Latitude  Longitude  AddressAccuracy WnvPresent    Tmax_x    Tmin_x  \\\n",
       "0  0.831714   0.325531         1.000000          0  0.794872  0.542857   \n",
       "1  0.831714   0.325531         1.000000          0  0.794872  0.542857   \n",
       "2  0.939812   0.404938         1.000000          0  0.794872  0.542857   \n",
       "3  0.883748   0.265883         0.833333          0  0.794872  0.542857   \n",
       "4  0.883748   0.265883         0.833333          0  0.794872  0.542857   \n",
       "\n",
       "     Tavg_x  Depart_x  DewPoint_x  WetBulb_x   ...    Day_22  Day_23  Day_24  \\\n",
       "0  0.705882  0.733333    0.558824   0.633333   ...       0.0     0.0     0.0   \n",
       "1  0.705882  0.733333    0.558824   0.633333   ...       0.0     0.0     0.0   \n",
       "2  0.705882  0.733333    0.558824   0.633333   ...       0.0     0.0     0.0   \n",
       "3  0.705882  0.733333    0.558824   0.633333   ...       0.0     0.0     0.0   \n",
       "4  0.705882  0.733333    0.558824   0.633333   ...       0.0     0.0     0.0   \n",
       "\n",
       "   Day_25  Day_26  Day_27  Day_28  Day_29  Day_30  Day_31  \n",
       "0     0.0     0.0     0.0     0.0     1.0     0.0     0.0  \n",
       "1     0.0     0.0     0.0     0.0     1.0     0.0     0.0  \n",
       "2     0.0     0.0     0.0     0.0     1.0     0.0     0.0  \n",
       "3     0.0     0.0     0.0     0.0     1.0     0.0     0.0  \n",
       "4     0.0     0.0     0.0     0.0     1.0     0.0     0.0  \n",
       "\n",
       "[5 rows x 280 columns]"
      ]
     },
     "execution_count": 753,
     "metadata": {},
     "output_type": "execute_result"
    }
   ],
   "source": [
    "train4.head()"
   ]
  },
  {
   "cell_type": "markdown",
   "metadata": {},
   "source": [
    "### NEW Test Data Transform"
   ]
  },
  {
   "cell_type": "code",
   "execution_count": 612,
   "metadata": {},
   "outputs": [],
   "source": [
    "#test2 + weather6 (inner join)\n",
    "#test data\n",
    "\n",
    "test3 = test2.merge(weather6, on='Date')"
   ]
  },
  {
   "cell_type": "code",
   "execution_count": 613,
   "metadata": {},
   "outputs": [],
   "source": [
    "test3 =test3.set_index('Id')\n",
    "\n",
    "test3['Month'] = test3['Date'].apply(lambda x: str(x)[5:7])\n",
    "test3['Day'] = test3['Date'].apply(lambda x: str(x)[8:])\n",
    "\n",
    "test3['Month'] = test3['Month'].astype('category')\n",
    "test3['Day'] = test3['Day'].astype('category')"
   ]
  },
  {
   "cell_type": "code",
   "execution_count": 614,
   "metadata": {},
   "outputs": [
    {
     "data": {
      "text/html": [
       "<div>\n",
       "<style scoped>\n",
       "    .dataframe tbody tr th:only-of-type {\n",
       "        vertical-align: middle;\n",
       "    }\n",
       "\n",
       "    .dataframe tbody tr th {\n",
       "        vertical-align: top;\n",
       "    }\n",
       "\n",
       "    .dataframe thead th {\n",
       "        text-align: right;\n",
       "    }\n",
       "</style>\n",
       "<table border=\"1\" class=\"dataframe\">\n",
       "  <thead>\n",
       "    <tr style=\"text-align: right;\">\n",
       "      <th></th>\n",
       "      <th>Date</th>\n",
       "      <th>Block</th>\n",
       "      <th>Trap</th>\n",
       "      <th>Latitude</th>\n",
       "      <th>Longitude</th>\n",
       "      <th>AddressAccuracy</th>\n",
       "      <th>typeSpecies</th>\n",
       "      <th>Tmax_x</th>\n",
       "      <th>Tmin_x</th>\n",
       "      <th>Tavg_x</th>\n",
       "      <th>...</th>\n",
       "      <th>SeaLevel_y</th>\n",
       "      <th>ResultSpeed_y</th>\n",
       "      <th>ResultDir_y</th>\n",
       "      <th>AvgSpeed_y</th>\n",
       "      <th>xhr_sunrise</th>\n",
       "      <th>yhr_sunrise</th>\n",
       "      <th>xhr_sunset</th>\n",
       "      <th>yhr_sunset</th>\n",
       "      <th>Month</th>\n",
       "      <th>Day</th>\n",
       "    </tr>\n",
       "    <tr>\n",
       "      <th>Id</th>\n",
       "      <th></th>\n",
       "      <th></th>\n",
       "      <th></th>\n",
       "      <th></th>\n",
       "      <th></th>\n",
       "      <th></th>\n",
       "      <th></th>\n",
       "      <th></th>\n",
       "      <th></th>\n",
       "      <th></th>\n",
       "      <th></th>\n",
       "      <th></th>\n",
       "      <th></th>\n",
       "      <th></th>\n",
       "      <th></th>\n",
       "      <th></th>\n",
       "      <th></th>\n",
       "      <th></th>\n",
       "      <th></th>\n",
       "      <th></th>\n",
       "      <th></th>\n",
       "    </tr>\n",
       "  </thead>\n",
       "  <tbody>\n",
       "    <tr>\n",
       "      <th>1</th>\n",
       "      <td>2008-06-11</td>\n",
       "      <td>41</td>\n",
       "      <td>T002</td>\n",
       "      <td>41.95469</td>\n",
       "      <td>-87.800991</td>\n",
       "      <td>9</td>\n",
       "      <td>0</td>\n",
       "      <td>86</td>\n",
       "      <td>61</td>\n",
       "      <td>74</td>\n",
       "      <td>...</td>\n",
       "      <td>29.97</td>\n",
       "      <td>9.4</td>\n",
       "      <td>18</td>\n",
       "      <td>10.4</td>\n",
       "      <td>0.898794</td>\n",
       "      <td>0.438371</td>\n",
       "      <td>-0.930418</td>\n",
       "      <td>0.366501</td>\n",
       "      <td>06</td>\n",
       "      <td>11</td>\n",
       "    </tr>\n",
       "    <tr>\n",
       "      <th>2</th>\n",
       "      <td>2008-06-11</td>\n",
       "      <td>41</td>\n",
       "      <td>T002</td>\n",
       "      <td>41.95469</td>\n",
       "      <td>-87.800991</td>\n",
       "      <td>9</td>\n",
       "      <td>1</td>\n",
       "      <td>86</td>\n",
       "      <td>61</td>\n",
       "      <td>74</td>\n",
       "      <td>...</td>\n",
       "      <td>29.97</td>\n",
       "      <td>9.4</td>\n",
       "      <td>18</td>\n",
       "      <td>10.4</td>\n",
       "      <td>0.898794</td>\n",
       "      <td>0.438371</td>\n",
       "      <td>-0.930418</td>\n",
       "      <td>0.366501</td>\n",
       "      <td>06</td>\n",
       "      <td>11</td>\n",
       "    </tr>\n",
       "    <tr>\n",
       "      <th>3</th>\n",
       "      <td>2008-06-11</td>\n",
       "      <td>41</td>\n",
       "      <td>T002</td>\n",
       "      <td>41.95469</td>\n",
       "      <td>-87.800991</td>\n",
       "      <td>9</td>\n",
       "      <td>2</td>\n",
       "      <td>86</td>\n",
       "      <td>61</td>\n",
       "      <td>74</td>\n",
       "      <td>...</td>\n",
       "      <td>29.97</td>\n",
       "      <td>9.4</td>\n",
       "      <td>18</td>\n",
       "      <td>10.4</td>\n",
       "      <td>0.898794</td>\n",
       "      <td>0.438371</td>\n",
       "      <td>-0.930418</td>\n",
       "      <td>0.366501</td>\n",
       "      <td>06</td>\n",
       "      <td>11</td>\n",
       "    </tr>\n",
       "    <tr>\n",
       "      <th>4</th>\n",
       "      <td>2008-06-11</td>\n",
       "      <td>41</td>\n",
       "      <td>T002</td>\n",
       "      <td>41.95469</td>\n",
       "      <td>-87.800991</td>\n",
       "      <td>9</td>\n",
       "      <td>4</td>\n",
       "      <td>86</td>\n",
       "      <td>61</td>\n",
       "      <td>74</td>\n",
       "      <td>...</td>\n",
       "      <td>29.97</td>\n",
       "      <td>9.4</td>\n",
       "      <td>18</td>\n",
       "      <td>10.4</td>\n",
       "      <td>0.898794</td>\n",
       "      <td>0.438371</td>\n",
       "      <td>-0.930418</td>\n",
       "      <td>0.366501</td>\n",
       "      <td>06</td>\n",
       "      <td>11</td>\n",
       "    </tr>\n",
       "    <tr>\n",
       "      <th>5</th>\n",
       "      <td>2008-06-11</td>\n",
       "      <td>41</td>\n",
       "      <td>T002</td>\n",
       "      <td>41.95469</td>\n",
       "      <td>-87.800991</td>\n",
       "      <td>9</td>\n",
       "      <td>3</td>\n",
       "      <td>86</td>\n",
       "      <td>61</td>\n",
       "      <td>74</td>\n",
       "      <td>...</td>\n",
       "      <td>29.97</td>\n",
       "      <td>9.4</td>\n",
       "      <td>18</td>\n",
       "      <td>10.4</td>\n",
       "      <td>0.898794</td>\n",
       "      <td>0.438371</td>\n",
       "      <td>-0.930418</td>\n",
       "      <td>0.366501</td>\n",
       "      <td>06</td>\n",
       "      <td>11</td>\n",
       "    </tr>\n",
       "  </tbody>\n",
       "</table>\n",
       "<p>5 rows × 42 columns</p>\n",
       "</div>"
      ],
      "text/plain": [
       "          Date Block  Trap  Latitude  Longitude  AddressAccuracy typeSpecies  \\\n",
       "Id                                                                             \n",
       "1   2008-06-11    41  T002  41.95469 -87.800991                9           0   \n",
       "2   2008-06-11    41  T002  41.95469 -87.800991                9           1   \n",
       "3   2008-06-11    41  T002  41.95469 -87.800991                9           2   \n",
       "4   2008-06-11    41  T002  41.95469 -87.800991                9           4   \n",
       "5   2008-06-11    41  T002  41.95469 -87.800991                9           3   \n",
       "\n",
       "    Tmax_x  Tmin_x  Tavg_x ...   SeaLevel_y  ResultSpeed_y  ResultDir_y  \\\n",
       "Id                         ...                                            \n",
       "1       86      61      74 ...        29.97            9.4           18   \n",
       "2       86      61      74 ...        29.97            9.4           18   \n",
       "3       86      61      74 ...        29.97            9.4           18   \n",
       "4       86      61      74 ...        29.97            9.4           18   \n",
       "5       86      61      74 ...        29.97            9.4           18   \n",
       "\n",
       "    AvgSpeed_y  xhr_sunrise  yhr_sunrise  xhr_sunset  yhr_sunset  Month  Day  \n",
       "Id                                                                            \n",
       "1         10.4     0.898794     0.438371   -0.930418    0.366501     06   11  \n",
       "2         10.4     0.898794     0.438371   -0.930418    0.366501     06   11  \n",
       "3         10.4     0.898794     0.438371   -0.930418    0.366501     06   11  \n",
       "4         10.4     0.898794     0.438371   -0.930418    0.366501     06   11  \n",
       "5         10.4     0.898794     0.438371   -0.930418    0.366501     06   11  \n",
       "\n",
       "[5 rows x 42 columns]"
      ]
     },
     "execution_count": 614,
     "metadata": {},
     "output_type": "execute_result"
    }
   ],
   "source": [
    "test3.head()"
   ]
  },
  {
   "cell_type": "code",
   "execution_count": 615,
   "metadata": {},
   "outputs": [],
   "source": [
    "test4 =test3.drop(['Date'],1)"
   ]
  },
  {
   "cell_type": "code",
   "execution_count": 616,
   "metadata": {},
   "outputs": [],
   "source": [
    "#one hot encode\n",
    "\n",
    "CAT_COLUMNS =['Block','Trap','typeSpecies','Month','Day']\n",
    "\n",
    "test4 =pd.get_dummies(test4, columns =CAT_COLUMNS)\n",
    "\n",
    "\n",
    "#numerical feature scaling\n",
    "scaler = MinMaxScaler()\n",
    "NUM_COLUMNS = list(test4.select_dtypes(exclude=['object']).columns)\n",
    "test4[NUM_COLUMNS] = scaler.fit_transform(test4[NUM_COLUMNS])"
   ]
  },
  {
   "cell_type": "code",
   "execution_count": 617,
   "metadata": {},
   "outputs": [
    {
     "data": {
      "text/html": [
       "<div>\n",
       "<style scoped>\n",
       "    .dataframe tbody tr th:only-of-type {\n",
       "        vertical-align: middle;\n",
       "    }\n",
       "\n",
       "    .dataframe tbody tr th {\n",
       "        vertical-align: top;\n",
       "    }\n",
       "\n",
       "    .dataframe thead th {\n",
       "        text-align: right;\n",
       "    }\n",
       "</style>\n",
       "<table border=\"1\" class=\"dataframe\">\n",
       "  <thead>\n",
       "    <tr style=\"text-align: right;\">\n",
       "      <th></th>\n",
       "      <th>Latitude</th>\n",
       "      <th>Longitude</th>\n",
       "      <th>AddressAccuracy</th>\n",
       "      <th>Tmax_x</th>\n",
       "      <th>Tmin_x</th>\n",
       "      <th>Tavg_x</th>\n",
       "      <th>Depart_x</th>\n",
       "      <th>DewPoint_x</th>\n",
       "      <th>WetBulb_x</th>\n",
       "      <th>Heat_x</th>\n",
       "      <th>...</th>\n",
       "      <th>Day_21</th>\n",
       "      <th>Day_23</th>\n",
       "      <th>Day_24</th>\n",
       "      <th>Day_25</th>\n",
       "      <th>Day_26</th>\n",
       "      <th>Day_27</th>\n",
       "      <th>Day_28</th>\n",
       "      <th>Day_29</th>\n",
       "      <th>Day_30</th>\n",
       "      <th>Day_31</th>\n",
       "    </tr>\n",
       "    <tr>\n",
       "      <th>Id</th>\n",
       "      <th></th>\n",
       "      <th></th>\n",
       "      <th></th>\n",
       "      <th></th>\n",
       "      <th></th>\n",
       "      <th></th>\n",
       "      <th></th>\n",
       "      <th></th>\n",
       "      <th></th>\n",
       "      <th></th>\n",
       "      <th></th>\n",
       "      <th></th>\n",
       "      <th></th>\n",
       "      <th></th>\n",
       "      <th></th>\n",
       "      <th></th>\n",
       "      <th></th>\n",
       "      <th></th>\n",
       "      <th></th>\n",
       "      <th></th>\n",
       "      <th></th>\n",
       "    </tr>\n",
       "  </thead>\n",
       "  <tbody>\n",
       "    <tr>\n",
       "      <th>1</th>\n",
       "      <td>0.831714</td>\n",
       "      <td>0.325531</td>\n",
       "      <td>1.0</td>\n",
       "      <td>0.769231</td>\n",
       "      <td>0.52</td>\n",
       "      <td>0.7</td>\n",
       "      <td>0.678571</td>\n",
       "      <td>0.53125</td>\n",
       "      <td>0.62963</td>\n",
       "      <td>0.0</td>\n",
       "      <td>...</td>\n",
       "      <td>0.0</td>\n",
       "      <td>0.0</td>\n",
       "      <td>0.0</td>\n",
       "      <td>0.0</td>\n",
       "      <td>0.0</td>\n",
       "      <td>0.0</td>\n",
       "      <td>0.0</td>\n",
       "      <td>0.0</td>\n",
       "      <td>0.0</td>\n",
       "      <td>0.0</td>\n",
       "    </tr>\n",
       "    <tr>\n",
       "      <th>2</th>\n",
       "      <td>0.831714</td>\n",
       "      <td>0.325531</td>\n",
       "      <td>1.0</td>\n",
       "      <td>0.769231</td>\n",
       "      <td>0.52</td>\n",
       "      <td>0.7</td>\n",
       "      <td>0.678571</td>\n",
       "      <td>0.53125</td>\n",
       "      <td>0.62963</td>\n",
       "      <td>0.0</td>\n",
       "      <td>...</td>\n",
       "      <td>0.0</td>\n",
       "      <td>0.0</td>\n",
       "      <td>0.0</td>\n",
       "      <td>0.0</td>\n",
       "      <td>0.0</td>\n",
       "      <td>0.0</td>\n",
       "      <td>0.0</td>\n",
       "      <td>0.0</td>\n",
       "      <td>0.0</td>\n",
       "      <td>0.0</td>\n",
       "    </tr>\n",
       "    <tr>\n",
       "      <th>3</th>\n",
       "      <td>0.831714</td>\n",
       "      <td>0.325531</td>\n",
       "      <td>1.0</td>\n",
       "      <td>0.769231</td>\n",
       "      <td>0.52</td>\n",
       "      <td>0.7</td>\n",
       "      <td>0.678571</td>\n",
       "      <td>0.53125</td>\n",
       "      <td>0.62963</td>\n",
       "      <td>0.0</td>\n",
       "      <td>...</td>\n",
       "      <td>0.0</td>\n",
       "      <td>0.0</td>\n",
       "      <td>0.0</td>\n",
       "      <td>0.0</td>\n",
       "      <td>0.0</td>\n",
       "      <td>0.0</td>\n",
       "      <td>0.0</td>\n",
       "      <td>0.0</td>\n",
       "      <td>0.0</td>\n",
       "      <td>0.0</td>\n",
       "    </tr>\n",
       "    <tr>\n",
       "      <th>4</th>\n",
       "      <td>0.831714</td>\n",
       "      <td>0.325531</td>\n",
       "      <td>1.0</td>\n",
       "      <td>0.769231</td>\n",
       "      <td>0.52</td>\n",
       "      <td>0.7</td>\n",
       "      <td>0.678571</td>\n",
       "      <td>0.53125</td>\n",
       "      <td>0.62963</td>\n",
       "      <td>0.0</td>\n",
       "      <td>...</td>\n",
       "      <td>0.0</td>\n",
       "      <td>0.0</td>\n",
       "      <td>0.0</td>\n",
       "      <td>0.0</td>\n",
       "      <td>0.0</td>\n",
       "      <td>0.0</td>\n",
       "      <td>0.0</td>\n",
       "      <td>0.0</td>\n",
       "      <td>0.0</td>\n",
       "      <td>0.0</td>\n",
       "    </tr>\n",
       "    <tr>\n",
       "      <th>5</th>\n",
       "      <td>0.831714</td>\n",
       "      <td>0.325531</td>\n",
       "      <td>1.0</td>\n",
       "      <td>0.769231</td>\n",
       "      <td>0.52</td>\n",
       "      <td>0.7</td>\n",
       "      <td>0.678571</td>\n",
       "      <td>0.53125</td>\n",
       "      <td>0.62963</td>\n",
       "      <td>0.0</td>\n",
       "      <td>...</td>\n",
       "      <td>0.0</td>\n",
       "      <td>0.0</td>\n",
       "      <td>0.0</td>\n",
       "      <td>0.0</td>\n",
       "      <td>0.0</td>\n",
       "      <td>0.0</td>\n",
       "      <td>0.0</td>\n",
       "      <td>0.0</td>\n",
       "      <td>0.0</td>\n",
       "      <td>0.0</td>\n",
       "    </tr>\n",
       "  </tbody>\n",
       "</table>\n",
       "<p>5 rows × 292 columns</p>\n",
       "</div>"
      ],
      "text/plain": [
       "    Latitude  Longitude  AddressAccuracy    Tmax_x  Tmin_x  Tavg_x  Depart_x  \\\n",
       "Id                                                                             \n",
       "1   0.831714   0.325531              1.0  0.769231    0.52     0.7  0.678571   \n",
       "2   0.831714   0.325531              1.0  0.769231    0.52     0.7  0.678571   \n",
       "3   0.831714   0.325531              1.0  0.769231    0.52     0.7  0.678571   \n",
       "4   0.831714   0.325531              1.0  0.769231    0.52     0.7  0.678571   \n",
       "5   0.831714   0.325531              1.0  0.769231    0.52     0.7  0.678571   \n",
       "\n",
       "    DewPoint_x  WetBulb_x  Heat_x   ...    Day_21  Day_23  Day_24  Day_25  \\\n",
       "Id                                  ...                                     \n",
       "1      0.53125    0.62963     0.0   ...       0.0     0.0     0.0     0.0   \n",
       "2      0.53125    0.62963     0.0   ...       0.0     0.0     0.0     0.0   \n",
       "3      0.53125    0.62963     0.0   ...       0.0     0.0     0.0     0.0   \n",
       "4      0.53125    0.62963     0.0   ...       0.0     0.0     0.0     0.0   \n",
       "5      0.53125    0.62963     0.0   ...       0.0     0.0     0.0     0.0   \n",
       "\n",
       "    Day_26  Day_27  Day_28  Day_29  Day_30  Day_31  \n",
       "Id                                                  \n",
       "1      0.0     0.0     0.0     0.0     0.0     0.0  \n",
       "2      0.0     0.0     0.0     0.0     0.0     0.0  \n",
       "3      0.0     0.0     0.0     0.0     0.0     0.0  \n",
       "4      0.0     0.0     0.0     0.0     0.0     0.0  \n",
       "5      0.0     0.0     0.0     0.0     0.0     0.0  \n",
       "\n",
       "[5 rows x 292 columns]"
      ]
     },
     "execution_count": 617,
     "metadata": {},
     "output_type": "execute_result"
    }
   ],
   "source": [
    "test4.head()"
   ]
  },
  {
   "cell_type": "code",
   "execution_count": 618,
   "metadata": {},
   "outputs": [
    {
     "data": {
      "text/plain": [
       "(10506, 280)"
      ]
     },
     "execution_count": 618,
     "metadata": {},
     "output_type": "execute_result"
    }
   ],
   "source": [
    "train4.shape"
   ]
  },
  {
   "cell_type": "code",
   "execution_count": 619,
   "metadata": {},
   "outputs": [
    {
     "data": {
      "text/plain": [
       "(116293, 292)"
      ]
     },
     "execution_count": 619,
     "metadata": {},
     "output_type": "execute_result"
    }
   ],
   "source": [
    "test4.shape"
   ]
  },
  {
   "cell_type": "code",
   "execution_count": 620,
   "metadata": {},
   "outputs": [
    {
     "data": {
      "text/plain": [
       "{'Block_26',\n",
       " 'Day_20',\n",
       " 'Trap_T002A',\n",
       " 'Trap_T002B',\n",
       " 'Trap_T065A',\n",
       " 'Trap_T090A',\n",
       " 'Trap_T090B',\n",
       " 'Trap_T090C',\n",
       " 'Trap_T128A',\n",
       " 'Trap_T200A',\n",
       " 'Trap_T200B',\n",
       " 'Trap_T218A',\n",
       " 'Trap_T218B',\n",
       " 'Trap_T218C',\n",
       " 'Trap_T234'}"
      ]
     },
     "execution_count": 620,
     "metadata": {},
     "output_type": "execute_result"
    }
   ],
   "source": [
    "# Get missing columns in the training data\n",
    "missing_cols_tr = set(test4.columns) - set(train4.columns)\n",
    "missing_cols_tr"
   ]
  },
  {
   "cell_type": "code",
   "execution_count": 621,
   "metadata": {},
   "outputs": [
    {
     "data": {
      "text/plain": [
       "{'Day_22', 'Month_05', 'WnvPresent'}"
      ]
     },
     "execution_count": 621,
     "metadata": {},
     "output_type": "execute_result"
    }
   ],
   "source": [
    "# Get missing columns in the test data \n",
    "missing_cols_te = set(train4.columns) - set(test4.columns)\n",
    "missing_cols_te"
   ]
  },
  {
   "cell_type": "code",
   "execution_count": 622,
   "metadata": {},
   "outputs": [],
   "source": [
    "#add missing columns in BOTH train and test dataset\n",
    "train5,test5 = train4.align(test4, join='outer', axis=1, fill_value=0)"
   ]
  },
  {
   "cell_type": "code",
   "execution_count": 623,
   "metadata": {},
   "outputs": [
    {
     "data": {
      "text/plain": [
       "(10506, 295)"
      ]
     },
     "execution_count": 623,
     "metadata": {},
     "output_type": "execute_result"
    }
   ],
   "source": [
    "train5.shape"
   ]
  },
  {
   "cell_type": "code",
   "execution_count": 624,
   "metadata": {},
   "outputs": [
    {
     "data": {
      "text/plain": [
       "(116293, 295)"
      ]
     },
     "execution_count": 624,
     "metadata": {},
     "output_type": "execute_result"
    }
   ],
   "source": [
    "test5.shape"
   ]
  },
  {
   "cell_type": "code",
   "execution_count": 625,
   "metadata": {},
   "outputs": [
    {
     "data": {
      "text/plain": [
       "set()"
      ]
     },
     "execution_count": 625,
     "metadata": {},
     "output_type": "execute_result"
    }
   ],
   "source": [
    "missing_col_check =set(train5.columns) -set(test5.columns)\n",
    "missing_col_check"
   ]
  },
  {
   "cell_type": "markdown",
   "metadata": {},
   "source": [
    "### Split data & Build Models"
   ]
  },
  {
   "cell_type": "code",
   "execution_count": 626,
   "metadata": {},
   "outputs": [],
   "source": [
    "#split data into train and valid data（20%）\n",
    "sess = StratifiedShuffleSplit(train5['WnvPresent'].values, test_size = 0.2)\n",
    "for train_index,valid_index in sess:\n",
    "    trainData = train5.iloc[train_index]\n",
    "    validData = train5.iloc[valid_index]\n",
    "\n",
    "X_train,y_train = trainData.drop(['WnvPresent'],1) ,trainData['WnvPresent']\n",
    "X_valid,y_valid = validData.drop(['WnvPresent'],1) ,validData['WnvPresent']"
   ]
  },
  {
   "cell_type": "code",
   "execution_count": 627,
   "metadata": {},
   "outputs": [
    {
     "name": "stdout",
     "output_type": "stream",
     "text": [
      "(8404, 295)\n",
      "(2102, 295)\n"
     ]
    }
   ],
   "source": [
    "print(trainData.shape)\n",
    "print(validData.shape)"
   ]
  },
  {
   "cell_type": "code",
   "execution_count": 628,
   "metadata": {},
   "outputs": [
    {
     "name": "stdout",
     "output_type": "stream",
     "text": [
      "(8404, 294)\n",
      "(8404,)\n",
      "(2102, 294)\n",
      "(2102,)\n"
     ]
    }
   ],
   "source": [
    "print(X_train.shape)\n",
    "print(y_train.shape)\n",
    "print(X_valid.shape)\n",
    "print(y_valid.shape)"
   ]
  },
  {
   "cell_type": "code",
   "execution_count": 629,
   "metadata": {},
   "outputs": [
    {
     "name": "stderr",
     "output_type": "stream",
     "text": [
      "/anaconda3/envs/py35/lib/python3.5/site-packages/sklearn/utils/deprecation.py:77: DeprecationWarning: Function _ratio_float is deprecated; Use a float for 'ratio' is deprecated from version 0.2. The support will be removed in 0.4. Use a dict, str, or a callable instead.\n",
      "  warnings.warn(msg, category=DeprecationWarning)\n"
     ]
    }
   ],
   "source": [
    "#imbalance label -upsampling label\n",
    "sm = SMOTE(random_state=42, ratio = 1.0)\n",
    "\n",
    "X_train_res, y_train_res = sm.fit_sample(X_train, y_train)"
   ]
  },
  {
   "cell_type": "code",
   "execution_count": 630,
   "metadata": {},
   "outputs": [
    {
     "name": "stdout",
     "output_type": "stream",
     "text": [
      "(15926, 294)\n",
      "(15926,)\n"
     ]
    }
   ],
   "source": [
    "print(X_train_res.shape)\n",
    "print(y_train_res.shape)"
   ]
  },
  {
   "cell_type": "markdown",
   "metadata": {},
   "source": [
    "### Logistic Regression"
   ]
  },
  {
   "cell_type": "code",
   "execution_count": 874,
   "metadata": {},
   "outputs": [],
   "source": [
    "grid_lr = {'penalty': ['l1','l2'], \n",
    "           'C': [0.01,0.02]}\n",
    "\n",
    "lr = GridSearchCV(estimator=LogisticRegression(random_state=42), param_grid=grid_lr,) \n",
    "\n",
    "lr.fit(X_train_res, y_train_res)\n",
    "pred_lr = lr.best_estimator_.fit(X_train_res, y_train_res).predict(X_valid)"
   ]
  },
  {
   "cell_type": "markdown",
   "metadata": {},
   "source": [
    "### Decision Tree"
   ]
  },
  {
   "cell_type": "code",
   "execution_count": 850,
   "metadata": {},
   "outputs": [],
   "source": [
    "dt_classifer = DecisionTreeClassifier(random_state=42)\n",
    "\n",
    "grid_dt = {\n",
    " 'max_depth': [5,10,15], #30],\n",
    " 'max_features': ['sqrt'],\n",
    " 'min_samples_leaf': [1, 2 ], #, 4],\n",
    " 'min_samples_split': list(range(2, 5))}\n",
    "\n",
    "dt = GridSearchCV(estimator=dt_classifer, param_grid =grid_dt, cv=3) "
   ]
  },
  {
   "cell_type": "code",
   "execution_count": 851,
   "metadata": {},
   "outputs": [
    {
     "data": {
      "text/plain": [
       "GridSearchCV(cv=3, error_score='raise',\n",
       "       estimator=DecisionTreeClassifier(class_weight=None, criterion='gini', max_depth=None,\n",
       "            max_features=None, max_leaf_nodes=None,\n",
       "            min_impurity_decrease=0.0, min_impurity_split=None,\n",
       "            min_samples_leaf=1, min_samples_split=2,\n",
       "            min_weight_fraction_leaf=0.0, presort=False, random_state=42,\n",
       "            splitter='best'),\n",
       "       fit_params=None, iid=True, n_jobs=1,\n",
       "       param_grid={'max_depth': [5, 10, 15], 'min_samples_leaf': [1, 2], 'min_samples_split': [2, 3, 4], 'max_features': ['sqrt']},\n",
       "       pre_dispatch='2*n_jobs', refit=True, return_train_score='warn',\n",
       "       scoring=None, verbose=0)"
      ]
     },
     "execution_count": 851,
     "metadata": {},
     "output_type": "execute_result"
    }
   ],
   "source": [
    "dt.fit(X_train_res, y_train_res)"
   ]
  },
  {
   "cell_type": "code",
   "execution_count": 852,
   "metadata": {},
   "outputs": [
    {
     "data": {
      "text/plain": [
       "DecisionTreeClassifier(class_weight=None, criterion='gini', max_depth=15,\n",
       "            max_features='sqrt', max_leaf_nodes=None,\n",
       "            min_impurity_decrease=0.0, min_impurity_split=None,\n",
       "            min_samples_leaf=1, min_samples_split=3,\n",
       "            min_weight_fraction_leaf=0.0, presort=False, random_state=42,\n",
       "            splitter='best')"
      ]
     },
     "execution_count": 852,
     "metadata": {},
     "output_type": "execute_result"
    }
   ],
   "source": [
    "dt.best_estimator_"
   ]
  },
  {
   "cell_type": "code",
   "execution_count": 961,
   "metadata": {},
   "outputs": [
    {
     "name": "stdout",
     "output_type": "stream",
     "text": [
      "False Negative:  47\n",
      "Confusion Matrix: [[1679  313]\n",
      " [  47   63]]\n"
     ]
    }
   ],
   "source": [
    "pred_dt = dt.best_estimator_.fit(X_train_res, y_train_res).predict(X_valid)\n",
    "\n",
    "print('False Negative: ',confusion_matrix(y_valid, pred_dt).ravel()[2])\n",
    "print('Confusion Matrix:', confusion_matrix(y_valid, pred_dt))"
   ]
  },
  {
   "cell_type": "markdown",
   "metadata": {},
   "source": [
    "### Random Forest"
   ]
  },
  {
   "cell_type": "code",
   "execution_count": 855,
   "metadata": {},
   "outputs": [],
   "source": [
    "rf_classifer = RandomForestClassifier(class_weight=\"balanced\",random_state=42)\n",
    "\n",
    "grid_rf = {'bootstrap': [True],\n",
    " 'max_depth': [5,10, 15], \n",
    " 'max_features': ['sqrt'],\n",
    " 'min_samples_leaf': [1, 2 ], #, 4],\n",
    " 'min_samples_split': list(range(2, 5))}\n",
    "\n",
    "rfc = GridSearchCV(estimator=rf_classifer, param_grid=grid_rf, cv=3) "
   ]
  },
  {
   "cell_type": "code",
   "execution_count": 856,
   "metadata": {},
   "outputs": [
    {
     "data": {
      "text/plain": [
       "GridSearchCV(cv=3, error_score='raise',\n",
       "       estimator=RandomForestClassifier(bootstrap=True, class_weight='balanced',\n",
       "            criterion='gini', max_depth=None, max_features='auto',\n",
       "            max_leaf_nodes=None, min_impurity_decrease=0.0,\n",
       "            min_impurity_split=None, min_samples_leaf=1,\n",
       "            min_samples_split=2, min_weight_fraction_leaf=0.0,\n",
       "            n_estimators=10, n_jobs=1, oob_score=False, random_state=42,\n",
       "            verbose=0, warm_start=False),\n",
       "       fit_params=None, iid=True, n_jobs=1,\n",
       "       param_grid={'bootstrap': [True], 'max_features': ['sqrt'], 'min_samples_split': [2, 3, 4], 'min_samples_leaf': [1, 2], 'max_depth': [5, 10, 15]},\n",
       "       pre_dispatch='2*n_jobs', refit=True, return_train_score='warn',\n",
       "       scoring=None, verbose=0)"
      ]
     },
     "execution_count": 856,
     "metadata": {},
     "output_type": "execute_result"
    }
   ],
   "source": [
    "rfc.fit(X_train_res, y_train_res)"
   ]
  },
  {
   "cell_type": "code",
   "execution_count": 857,
   "metadata": {},
   "outputs": [
    {
     "data": {
      "text/plain": [
       "RandomForestClassifier(bootstrap=True, class_weight='balanced',\n",
       "            criterion='gini', max_depth=15, max_features='sqrt',\n",
       "            max_leaf_nodes=None, min_impurity_decrease=0.0,\n",
       "            min_impurity_split=None, min_samples_leaf=1,\n",
       "            min_samples_split=2, min_weight_fraction_leaf=0.0,\n",
       "            n_estimators=10, n_jobs=1, oob_score=False, random_state=42,\n",
       "            verbose=0, warm_start=False)"
      ]
     },
     "execution_count": 857,
     "metadata": {},
     "output_type": "execute_result"
    }
   ],
   "source": [
    "rfc.best_estimator_"
   ]
  },
  {
   "cell_type": "code",
   "execution_count": 858,
   "metadata": {},
   "outputs": [],
   "source": [
    "pred_rfc = rfc.best_estimator_.fit(X_train_res, y_train_res).predict(X_valid)"
   ]
  },
  {
   "cell_type": "code",
   "execution_count": 860,
   "metadata": {},
   "outputs": [
    {
     "data": {
      "text/plain": [
       "array([[1736,  256],\n",
       "       [  49,   61]])"
      ]
     },
     "execution_count": 860,
     "metadata": {},
     "output_type": "execute_result"
    }
   ],
   "source": [
    "cm = confusion_matrix(y_valid, pred_rfc)\n",
    "cm"
   ]
  },
  {
   "cell_type": "code",
   "execution_count": 861,
   "metadata": {},
   "outputs": [
    {
     "data": {
      "text/plain": [
       "(1736, 256, 49, 61)"
      ]
     },
     "execution_count": 861,
     "metadata": {},
     "output_type": "execute_result"
    }
   ],
   "source": [
    "# check recall - FN\n",
    "# lower FN after using balance data\n",
    "tn, fp, fn, tp = confusion_matrix(y_valid, pred_rfc).ravel()\n",
    "tn, fp, fn, tp"
   ]
  },
  {
   "cell_type": "code",
   "execution_count": 962,
   "metadata": {},
   "outputs": [
    {
     "name": "stdout",
     "output_type": "stream",
     "text": [
      "False Negative:  49\n"
     ]
    }
   ],
   "source": [
    "print('False Negative: ',confusion_matrix(y_valid, pred_rfc).ravel()[2])"
   ]
  },
  {
   "cell_type": "code",
   "execution_count": 863,
   "metadata": {},
   "outputs": [
    {
     "data": {
      "image/png": "[encoded data removed]",
      "text/plain": [
       "<matplotlib.figure.Figure at 0x1a2dda6ba8>"
      ]
     },
     "metadata": {},
     "output_type": "display_data"
    }
   ],
   "source": [
    "def PlotConfusionMatrix(x):\n",
    "    ax= plt.subplot()\n",
    "    sns.heatmap(x, annot=True, cmap='Blues',ax = ax,fmt='g'); #annot=True to annotate cells\n",
    "\n",
    "# labels, title and ticks\n",
    "    ax.set_xlabel('Predicted labels');ax.set_ylabel('True labels'); \n",
    "    ax.set_title('Confusion Matrix'); \n",
    "    ax.xaxis.set_ticklabels(['Negative', 'Positive']); ax.yaxis.set_ticklabels(['Negative', 'Positive']);\n",
    "\n",
    "PlotConfusionMatrix(cm)"
   ]
  },
  {
   "cell_type": "code",
   "execution_count": 864,
   "metadata": {},
   "outputs": [],
   "source": [
    "feature_importances_rf = pd.DataFrame(rfc.best_estimator_.feature_importances_,\n",
    "                                   index = X_train.columns,\n",
    "                                   columns=['importance']).sort_values('importance',                                                                 \n",
    "                                                                        ascending=False)"
   ]
  },
  {
   "cell_type": "code",
   "execution_count": 866,
   "metadata": {},
   "outputs": [
    {
     "data": {
      "image/png": "[encoded data removed]",
      "text/plain": [
       "<matplotlib.figure.Figure at 0x1a39b897f0>"
      ]
     },
     "metadata": {},
     "output_type": "display_data"
    }
   ],
   "source": [
    "# feature importance plot\n",
    "importances_rf = rfc.best_estimator_.feature_importances_\n",
    "indices_rf = np.argsort(importances_rf)\n",
    "\n",
    "plt.figure(figsize=(8,10))\n",
    "plt.title('Feature Importances')\n",
    "#plt.barh(range(len(indices_rf)), importances_rf[indices_rf], color='#51C7CB')\n",
    "#plt.yticks(range(len(indices_rf)),names[indices_rf])\n",
    "plt.xlabel('Relative Importance')\n",
    "\n",
    "top_n =30\n",
    "plt.barh(np.arange(top_n), importances_rf[indices_rf[-top_n:]],color='#51C7CB')\n",
    "\n",
    "plt.yticks(np.arange(top_n), X_train.columns[indices_rf[-top_n:]])\n",
    "plt.ylim(0, top_n)\n",
    "\n",
    "plt.show()"
   ]
  },
  {
   "cell_type": "markdown",
   "metadata": {},
   "source": [
    "### XGBoost"
   ]
  },
  {
   "cell_type": "code",
   "execution_count": 882,
   "metadata": {},
   "outputs": [],
   "source": [
    "xgb_classifer =XGBClassifier(n_estimators=5,seed=42)\n",
    "\n",
    "grid_xgb = {#'min_child_weight': [1, 5, 10],\n",
    "        #'colsample_bytree': [0.8, 1.0, 1.2],\n",
    "        'subsample': [0.6, 0.8,1],\n",
    "        'max_depth': [5,10,15],\n",
    "        'learning_rate': [0.1,0.2,0.3]\n",
    "            \n",
    "}\n",
    "\n",
    "xgb = GridSearchCV(estimator=xgb_classifer, param_grid =grid_xgb,cv=6) "
   ]
  },
  {
   "cell_type": "code",
   "execution_count": 883,
   "metadata": {},
   "outputs": [
    {
     "data": {
      "text/plain": [
       "GridSearchCV(cv=6, error_score='raise',\n",
       "       estimator=XGBClassifier(base_score=0.5, booster='gbtree', colsample_bylevel=1,\n",
       "       colsample_bytree=1, gamma=0, learning_rate=0.1, max_delta_step=0,\n",
       "       max_depth=3, min_child_weight=1, missing=None, n_estimators=5,\n",
       "       n_jobs=1, nthread=None, objective='binary:logistic', random_state=0,\n",
       "       reg_alpha=0, reg_lambda=1, scale_pos_weight=1, seed=42, silent=True,\n",
       "       subsample=1),\n",
       "       fit_params=None, iid=True, n_jobs=1,\n",
       "       param_grid={'max_depth': [5, 10, 15], 'subsample': [0.6, 0.8, 1], 'learning_rate': [0.1, 0.2, 0.3]},\n",
       "       pre_dispatch='2*n_jobs', refit=True, return_train_score='warn',\n",
       "       scoring=None, verbose=0)"
      ]
     },
     "execution_count": 883,
     "metadata": {},
     "output_type": "execute_result"
    }
   ],
   "source": [
    "xgb.fit(X_train_res, y_train_res)"
   ]
  },
  {
   "cell_type": "code",
   "execution_count": 884,
   "metadata": {},
   "outputs": [
    {
     "data": {
      "text/plain": [
       "XGBClassifier(base_score=0.5, booster='gbtree', colsample_bylevel=1,\n",
       "       colsample_bytree=1, gamma=0, learning_rate=0.3, max_delta_step=0,\n",
       "       max_depth=15, min_child_weight=1, missing=None, n_estimators=5,\n",
       "       n_jobs=1, nthread=None, objective='binary:logistic', random_state=0,\n",
       "       reg_alpha=0, reg_lambda=1, scale_pos_weight=1, seed=42, silent=True,\n",
       "       subsample=1)"
      ]
     },
     "execution_count": 884,
     "metadata": {},
     "output_type": "execute_result"
    }
   ],
   "source": [
    "xgb.best_estimator_"
   ]
  },
  {
   "cell_type": "code",
   "execution_count": 963,
   "metadata": {},
   "outputs": [
    {
     "name": "stdout",
     "output_type": "stream",
     "text": [
      "False Negative in valid data:  59\n",
      "Confusion Matrix:  [[1798  194]\n",
      " [  59   51]]\n"
     ]
    }
   ],
   "source": [
    "pred_xgb = xgb.best_estimator_.fit(X_train_res, y_train_res).predict(np.array(X_valid))\n",
    "\n",
    "print('False Negative in valid data: ',confusion_matrix(y_valid, pred_xgb).ravel()[2])\n",
    "print('Confusion Matrix: ',confusion_matrix(y_valid, pred_xgb))"
   ]
  },
  {
   "cell_type": "code",
   "execution_count": 886,
   "metadata": {},
   "outputs": [
    {
     "data": {
      "image/png": "[encoded data removed]",
      "text/plain": [
       "<matplotlib.figure.Figure at 0x1a4fb1beb8>"
      ]
     },
     "metadata": {},
     "output_type": "display_data"
    }
   ],
   "source": [
    "# feature importance plot\n",
    "importances_xgb = xgb.best_estimator_.feature_importances_\n",
    "indices_xgb = np.argsort(importances_xgb)\n",
    "\n",
    "plt.figure(figsize=(8,10))\n",
    "plt.title('Feature Importances')\n",
    "#plt.barh(range(len(indices_xgb)), importances_xgb[indices_xgb], color='#51C7CB')\n",
    "#plt.yticks(range(len(indices_xgb)),names[indices_xgb])\n",
    "plt.xlabel('Relative Importance')\n",
    "\n",
    "top_n =20\n",
    "plt.barh(np.arange(top_n), importances_xgb[indices_xgb[-top_n:]],color='#51C7CB')\n",
    "\n",
    "plt.yticks(np.arange(top_n), X_train.columns[indices_xgb[-top_n:]])\n",
    "plt.ylim(0, top_n)\n",
    "plt.show()"
   ]
  },
  {
   "cell_type": "code",
   "execution_count": 887,
   "metadata": {},
   "outputs": [
    {
     "data": {
      "image/png": "[encoded data removed]",
      "text/plain": [
       "<matplotlib.figure.Figure at 0x1a4fc71978>"
      ]
     },
     "metadata": {},
     "output_type": "display_data"
    }
   ],
   "source": [
    "def PlotConfusionMatrix(x):\n",
    "    ax= plt.subplot()\n",
    "    sns.heatmap(x, annot=True, cmap='Blues',ax = ax,fmt='g'); #annot=True to annotate cells\n",
    "\n",
    "# labels, title and ticks\n",
    "    ax.set_xlabel('Predicted labels');ax.set_ylabel('True labels'); \n",
    "    ax.set_title('Confusion Matrix'); \n",
    "    ax.xaxis.set_ticklabels(['Negative', 'Positive']); ax.yaxis.set_ticklabels(['Negative', 'Positive']);\n",
    "\n",
    "PlotConfusionMatrix(confusion_matrix(y_valid, pred_xgb))"
   ]
  },
  {
   "cell_type": "code",
   "execution_count": 888,
   "metadata": {},
   "outputs": [
    {
     "name": "stdout",
     "output_type": "stream",
     "text": [
      "Logistic Regression AUC:0.8154276195691859 \n",
      "RandomForest AUC:0.8415274735304855 \n",
      "Decision Tree AUC:0.7869569185834245 \n",
      "XGBoost AUC:0.8189804673238409 \n"
     ]
    },
    {
     "data": {
      "image/png": "[encoded data removed]",
      "text/plain": [
       "<matplotlib.figure.Figure at 0x1a1c6572b0>"
      ]
     },
     "metadata": {},
     "output_type": "display_data"
    }
   ],
   "source": [
    "#precision -recall\n",
    "\n",
    "pred_lr_c = lr.best_estimator_.fit(X_train_res, y_train_res).predict_proba(X_valid)\n",
    "pred_dt_c = dt.best_estimator_.fit(X_train_res, y_train_res).predict_proba(X_valid)\n",
    "pred_rfc_c = rfc.best_estimator_.fit(X_train_res, y_train_res).predict_proba(X_valid)\n",
    "pred_xgb_c = xgb.best_estimator_.fit(X_train_res, y_train_res).predict_proba(np.array(X_valid))\n",
    "\n",
    "p_lr_c, r_lr_c, t_lr_c = precision_recall_curve(y_valid,pred_lr_c[:,1])\n",
    "p_rfc_c, r_rfc_c, t_rfc_c = precision_recall_curve(y_valid,pred_rfc_c[:,1])\n",
    "p_dtc_c, r_dtc_c, t_dtc_c = precision_recall_curve(y_valid,pred_dt_c[:,1])\n",
    "p_xgb_c, r_xgb_c, t_xgb_c = precision_recall_curve(y_valid,pred_xgb_c[:,1])\n",
    "\n",
    "plt.plot(r_lr_c,p_lr_c,label='Logistic Regression',color=\"#5CCD7A\")\n",
    "plt.plot(r_rfc_c,p_rfc_c,label='Random Forest',color =\"#A064EF\")\n",
    "plt.plot(r_dtc_c,p_dtc_c,label='Decision Tree',color =\"#64A1D7\")\n",
    "plt.plot(r_xgb_c,p_xgb_c,label='XGBoost',color =\"#F06514\")\n",
    "\n",
    "plt.xlabel(\"Recall\")\n",
    "plt.ylabel(\"Precision\")\n",
    "plt.title('Precision Recall Curve - Compare with Different Models')\n",
    "plt.legend()\n",
    "\n",
    "print(\"Logistic Regression AUC:{0} \".format(roc_auc_score(y_valid,pred_lr_c[:,1])))\n",
    "print(\"RandomForest AUC:{0} \".format(roc_auc_score(y_valid,pred_rfc_c[:,1])))\n",
    "print(\"Decision Tree AUC:{0} \".format(roc_auc_score(y_valid,pred_dt_c[:,1])))\n",
    "print(\"XGBoost AUC:{0} \".format(roc_auc_score(y_valid,pred_xgb_c[:,1])))"
   ]
  },
  {
   "cell_type": "code",
   "execution_count": 889,
   "metadata": {},
   "outputs": [
    {
     "data": {
      "image/png": "[encoded data removed]",
      "text/plain": [
       "<matplotlib.figure.Figure at 0x1a4fb04ac8>"
      ]
     },
     "metadata": {},
     "output_type": "display_data"
    }
   ],
   "source": [
    "# Plot of a ROC curve for a specific class\n",
    "# Determine the false positive and true positive rates\n",
    "fpr_lrc_c, tpr_lrc_c, _lrc_c = roc_curve(y_valid,pred_lr_c[:,1])\n",
    "fpr_rfc_c, tpr_rfc_c, _rfc_c = roc_curve(y_valid,pred_rfc_c[:,1])\n",
    "fpr_dtc_c, tpr_dtc_c, _dtc_c = roc_curve(y_valid,pred_dt_c[:,1])\n",
    "fpr_xgb_c, tpr_xgb_c, _xgb_c = roc_curve(y_valid,pred_xgb_c[:,1])\n",
    "\n",
    "# Calculate the AUC\n",
    "roc_auc_lrc_c = auc(fpr_lrc_c, tpr_lrc_c)\n",
    "roc_auc_rfc_c = auc(fpr_rfc_c, tpr_rfc_c)\n",
    "roc_auc_dtc_c = auc(fpr_dtc_c, tpr_dtc_c)\n",
    "roc_auc_xgb_c = auc(fpr_xgb_c, tpr_xgb_c)\n",
    "\n",
    "\n",
    "plt.figure()\n",
    "\n",
    "plt.plot(fpr_lrc_c, tpr_lrc_c, label='Logistic Regression ROC curve (area = %0.4f)' % roc_auc_lrc_c)\n",
    "plt.plot(fpr_rfc_c, tpr_rfc_c, label='Random Forest ROC curve (area = %0.4f)' % roc_auc_rfc_c)\n",
    "plt.plot(fpr_dtc_c, tpr_dtc_c, label='Decision Tree ROC curve (area = %0.4f)' % roc_auc_dtc_c)\n",
    "plt.plot(fpr_xgb_c, tpr_xgb_c, label='XBGBoost ROC curve (area = %0.4f)' % roc_auc_xgb_c)\n",
    "\n",
    "#plt.plot([0, 1], [0, 1], 'k--')\n",
    "plt.xlim([0.0, 1.0])\n",
    "plt.ylim([0.0, 1.05])\n",
    "plt.xlabel('False Positive Rate')\n",
    "plt.ylabel('True Positive Rate')\n",
    "plt.title('ROC Curve - Compare with Different Models')\n",
    "plt.legend(loc=\"lower right\")\n",
    "plt.show()"
   ]
  },
  {
   "cell_type": "code",
   "execution_count": 890,
   "metadata": {},
   "outputs": [
    {
     "name": "stdout",
     "output_type": "stream",
     "text": [
      "Logistic Regression F1 score:  0.524895449096\n",
      "Decsion Tree F1 score:  0.581216504293\n",
      "Random Forest F1 score:  0.602481183101\n",
      "XGBoost F1 score:  0.610796292434\n"
     ]
    }
   ],
   "source": [
    "dt_f1 =f1_score(y_valid, pred_dt, average='macro')\n",
    "rf_f1 =f1_score(y_valid, pred_rfc, average='macro')\n",
    "xg_f1 =f1_score(y_valid, pred_xgb, average='macro')\n",
    "lr_f1 =f1_score(y_valid, pred_lr, average='macro')\n",
    "\n",
    "print('Logistic Regression F1 score: ',lr_f1)\n",
    "print('Decsion Tree F1 score: ',dt_f1)\n",
    "print('Random Forest F1 score: ',rf_f1)\n",
    "print('XGBoost F1 score: ',xg_f1)"
   ]
  },
  {
   "cell_type": "markdown",
   "metadata": {},
   "source": [
    "### Summary\n",
    "F1 Score Table\n",
    "\n",
    "|Model              |F1 Score    |\n",
    "|-------------------|:-----------|\n",
    "|Logistic Regression|0.5248      |\n",
    "|Decision Tree      |0.5812      |\n",
    "|Random Forest      |0.6024      |\n",
    "|XGBoost            |0.6107      |"
   ]
  },
  {
   "cell_type": "code",
   "execution_count": 418,
   "metadata": {},
   "outputs": [],
   "source": [
    "#Try: feature selection -score testing\n",
    "\n",
    "xgb_best = best_model\n",
    "xgb_best.fit(X_train_res,y_train_res)\n",
    "\n",
    "fs = SelectFromModel(xgb_best, threshold=0.001,prefit=True)\n",
    "\n",
    "X_train_new = fs.transform(X_train_res) #column selected\n",
    "X_valid_new = fs.transform(X_valid)"
   ]
  },
  {
   "cell_type": "code",
   "execution_count": 419,
   "metadata": {},
   "outputs": [
    {
     "data": {
      "text/plain": [
       "(15926, 149)"
      ]
     },
     "execution_count": 419,
     "metadata": {},
     "output_type": "execute_result"
    }
   ],
   "source": [
    "X_train_new.shape"
   ]
  },
  {
   "cell_type": "code",
   "execution_count": 423,
   "metadata": {},
   "outputs": [
    {
     "name": "stdout",
     "output_type": "stream",
     "text": [
      "False Negative in valid data:  81\n",
      "Feature Selection F1 Score: 0.605128120623\n",
      "XGBoost AUC:0.8094879518072289 \n"
     ]
    }
   ],
   "source": [
    "xgb_best.fit(X_train_new, y_train_res)\n",
    "\n",
    "p1 =xgb_best.predict(np.array(X_valid_new))\n",
    "p2 =xgb_best.predict_proba(np.array(X_valid_new))\n",
    "\n",
    "print('False Negative in valid data: ',confusion_matrix(y_valid, p1).ravel()[2])\n",
    "print('Feature Selection F1 Score:', f1_score(y_valid, p1, average='macro'))\n",
    "\n",
    "pred_xgb_new = xgb_best.fit(X_train_new, y_train_res).predict_proba(np.array(X_valid_new))\n",
    "print(\"XGBoost AUC:{0} \".format(roc_auc_score(y_valid,pred_xgb_new[:,1])))"
   ]
  },
  {
   "cell_type": "markdown",
   "metadata": {},
   "source": [
    "## Future Work\n",
    "\n",
    "* Need to continuely conduct parameter tuning for XGBoost model\n",
    "* Try LightGBM to speed up computing\n",
    "* Try Complexity Neural Networks"
   ]
  },
  {
   "cell_type": "markdown",
   "metadata": {},
   "source": [
    "## Predict NEW Test Data\n",
    "\n",
    "### - Probability of WnvPresent"
   ]
  },
  {
   "cell_type": "code",
   "execution_count": 652,
   "metadata": {},
   "outputs": [
    {
     "data": {
      "text/plain": [
       "['bestmodel.pkl']"
      ]
     },
     "execution_count": 652,
     "metadata": {},
     "output_type": "execute_result"
    }
   ],
   "source": [
    "# best model pick up\n",
    "best_model =xgb.best_estimator_\n",
    "#save best model\n",
    "filename = 'bestmodel.pkl'\n",
    "joblib.dump(best_model, filename)"
   ]
  },
  {
   "cell_type": "code",
   "execution_count": 362,
   "metadata": {},
   "outputs": [],
   "source": [
    "# test load the model from drive\n",
    "best_model = joblib.load(filename)"
   ]
  },
  {
   "cell_type": "code",
   "execution_count": 359,
   "metadata": {},
   "outputs": [],
   "source": [
    "X_test =test5.copy().drop(['WnvPresent'],1)"
   ]
  },
  {
   "cell_type": "code",
   "execution_count": 399,
   "metadata": {},
   "outputs": [
    {
     "data": {
      "text/plain": [
       "(116293, 287)"
      ]
     },
     "execution_count": 399,
     "metadata": {},
     "output_type": "execute_result"
    }
   ],
   "source": [
    "X_test.shape"
   ]
  },
  {
   "cell_type": "code",
   "execution_count": 366,
   "metadata": {},
   "outputs": [],
   "source": [
    "pred_test = best_model.predict_proba(np.array(X_test))"
   ]
  },
  {
   "cell_type": "code",
   "execution_count": 367,
   "metadata": {},
   "outputs": [],
   "source": [
    "user_id =X_test.index.values.tolist()"
   ]
  },
  {
   "cell_type": "code",
   "execution_count": 369,
   "metadata": {},
   "outputs": [],
   "source": [
    "#save predicted column as CSV file\n",
    "prediction =pd.DataFrame({'Id': user_id ,'WnvPresent':pred_test[:,1]}).to_csv('submission.csv',index = False)"
   ]
  }
 ],
 "metadata": {
  "kernelspec": {
   "display_name": "Python 3",
   "language": "python",
   "name": "python3"
  },
  "language_info": {
   "codemirror_mode": {
    "name": "ipython",
    "version": 3
   },
   "file_extension": ".py",
   "mimetype": "text/x-python",
   "name": "python",
   "nbconvert_exporter": "python",
   "pygments_lexer": "ipython3",
   "version": "3.5.4"
  }
 },
 "nbformat": 4,
 "nbformat_minor": 2
}
